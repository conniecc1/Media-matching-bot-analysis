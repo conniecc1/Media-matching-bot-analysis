{
 "cells": [
  {
   "cell_type": "markdown",
   "id": "48df473c",
   "metadata": {},
   "source": [
    "# Measure success of Media Matching bots"
   ]
  },
  {
   "cell_type": "markdown",
   "id": "9ec601f7",
   "metadata": {},
   "source": [
    "[T275888](https://phabricator.wikimedia.org/T275888)"
   ]
  },
  {
   "cell_type": "markdown",
   "id": "6eb24757",
   "metadata": {},
   "source": [
    "## Purpose"
   ]
  },
  {
   "cell_type": "markdown",
   "id": "2af49f50",
   "metadata": {},
   "source": [
    "Structured data team are working on an API that will allow bot writers to automatically add highly relevant images to specific articles.\n",
    "\n",
    "In order to undersrand how and whether to continue to move forward or if any major changes need to be made, we would like to collect metrics about the health of the project:\n",
    "\n",
    "- How many edits are made by bots to add images?\n",
    "- What proportion of those edits are reverted within 48 hours (aka “unconstructive edits”)? \n",
    "- How many images are added to an article in each edit? Does the number of images added per edit relate to revert rate?\n",
    "- Are there certain topic areas where images added by bots are more likely to be reverted"
   ]
  },
  {
   "cell_type": "markdown",
   "id": "3b08a28a",
   "metadata": {},
   "source": [
    "## Data"
   ]
  },
  {
   "cell_type": "markdown",
   "id": "1fb169d0",
   "metadata": {},
   "source": [
    "For this analysis, we are collecting metrics for JarBot running on Arabic Wikipedia from 01 March 2021 to 31 August 2021. The image-adding edits can be found using [this query](https://quarry.wmflabs.org/query/57516)."
   ]
  },
  {
   "cell_type": "code",
   "execution_count": 24,
   "id": "950d3fc1",
   "metadata": {},
   "outputs": [],
   "source": [
    "import datetime as dt\n",
    "import requests\n",
    "import mwapi\n",
    "import json\n",
    "import urllib.parse\n",
    "\n",
    "import pandas as pd\n",
    "import numpy as np\n",
    "\n",
    "from wmfdata import spark"
   ]
  },
  {
   "cell_type": "code",
   "execution_count": 10,
   "id": "2c94e6aa",
   "metadata": {},
   "outputs": [],
   "source": [
    "##load image-adding edits into csv\n",
    "\n",
    "filepath = \"arwiki-jarbot-2021.csv\"\n",
    "hive.load_csv(\n",
    "    filepath,\n",
    "    field_spec=\"rev_timestamp string, page_id int, rev_id int, comment_text string\",\n",
    "    db_name=\"cchen\",\n",
    "    table_name=\"sd_jarbot_0301_0901\",\n",
    ")"
   ]
  },
  {
   "cell_type": "markdown",
   "id": "320239d5",
   "metadata": {},
   "source": [
    "## edits_count"
   ]
  },
  {
   "cell_type": "code",
   "execution_count": 9,
   "id": "027b3f4d",
   "metadata": {},
   "outputs": [],
   "source": [
    "edits_count_query = '''\n",
    "SELECT \n",
    "  FROM_UNIXTIME(UNIX_TIMESTAMP(SUBSTR(rev_timestamp,0,8), 'yyyyMMdd')) AS `date`,\n",
    "  COUNT(DISTINCT(rev_id)) AS rev\n",
    "FROM cchen.sd_jarbot_0301_0901 \n",
    "GROUP BY SUBSTR(rev_timestamp,0,8)\n",
    "'''"
   ]
  },
  {
   "cell_type": "code",
   "execution_count": 10,
   "id": "78c0c195",
   "metadata": {},
   "outputs": [
    {
     "name": "stderr",
     "output_type": "stream",
     "text": [
      "PySpark executors will use /usr/lib/anaconda-wmf/bin/python3.\n"
     ]
    }
   ],
   "source": [
    "edits_count = spark.run(edits_count_query)"
   ]
  },
  {
   "cell_type": "code",
   "execution_count": 11,
   "id": "aca65cda",
   "metadata": {},
   "outputs": [
    {
     "data": {
      "text/html": [
       "<div>\n",
       "<style scoped>\n",
       "    .dataframe tbody tr th:only-of-type {\n",
       "        vertical-align: middle;\n",
       "    }\n",
       "\n",
       "    .dataframe tbody tr th {\n",
       "        vertical-align: top;\n",
       "    }\n",
       "\n",
       "    .dataframe thead th {\n",
       "        text-align: right;\n",
       "    }\n",
       "</style>\n",
       "<table border=\"1\" class=\"dataframe\">\n",
       "  <thead>\n",
       "    <tr style=\"text-align: right;\">\n",
       "      <th></th>\n",
       "      <th>date</th>\n",
       "      <th>rev</th>\n",
       "    </tr>\n",
       "  </thead>\n",
       "  <tbody>\n",
       "    <tr>\n",
       "      <th>0</th>\n",
       "      <td>2021-03-18 00:00:00</td>\n",
       "      <td>25</td>\n",
       "    </tr>\n",
       "    <tr>\n",
       "      <th>1</th>\n",
       "      <td>2021-03-19 00:00:00</td>\n",
       "      <td>54</td>\n",
       "    </tr>\n",
       "    <tr>\n",
       "      <th>2</th>\n",
       "      <td>2021-03-23 00:00:00</td>\n",
       "      <td>77</td>\n",
       "    </tr>\n",
       "    <tr>\n",
       "      <th>3</th>\n",
       "      <td>2021-08-01 00:00:00</td>\n",
       "      <td>2131</td>\n",
       "    </tr>\n",
       "    <tr>\n",
       "      <th>4</th>\n",
       "      <td>2021-07-31 00:00:00</td>\n",
       "      <td>17126</td>\n",
       "    </tr>\n",
       "    <tr>\n",
       "      <th>5</th>\n",
       "      <td>2021-03-08 00:00:00</td>\n",
       "      <td>13</td>\n",
       "    </tr>\n",
       "  </tbody>\n",
       "</table>\n",
       "</div>"
      ],
      "text/plain": [
       "                  date    rev\n",
       "0  2021-03-18 00:00:00     25\n",
       "1  2021-03-19 00:00:00     54\n",
       "2  2021-03-23 00:00:00     77\n",
       "3  2021-08-01 00:00:00   2131\n",
       "4  2021-07-31 00:00:00  17126\n",
       "5  2021-03-08 00:00:00     13"
      ]
     },
     "execution_count": 11,
     "metadata": {},
     "output_type": "execute_result"
    }
   ],
   "source": [
    "edits_count"
   ]
  },
  {
   "cell_type": "code",
   "execution_count": 12,
   "id": "c80013e4",
   "metadata": {},
   "outputs": [
    {
     "data": {
      "text/plain": [
       "19426"
      ]
     },
     "execution_count": 12,
     "metadata": {},
     "output_type": "execute_result"
    }
   ],
   "source": [
    "#total image edits count\n",
    "edits_count['rev'].sum()"
   ]
  },
  {
   "cell_type": "markdown",
   "id": "82b7811f",
   "metadata": {},
   "source": [
    "## Reverted edits"
   ]
  },
  {
   "cell_type": "code",
   "execution_count": 3,
   "id": "985e75a8",
   "metadata": {},
   "outputs": [],
   "source": [
    "reverted_query = '''\n",
    "SELECT \n",
    "  event_timestamp,\n",
    "  revision_id, \n",
    "  b.page_id, \n",
    "  CASE \n",
    "    WHEN event_entity = \"revision\" \n",
    "        AND revision_is_identity_reverted \n",
    "        AND revision_seconds_to_identity_revert <= 172800 THEN 1\n",
    "    ELSE 0 \n",
    "  END AS reverted\n",
    "FROM cchen.sd_jarbot_0301_0901 b\n",
    "  INNER JOIN wmf.mediawiki_history w ON b.rev_id = w.revision_id\n",
    "WHERE snapshot = '2021-08'\n",
    "  AND wiki_db = 'arwiki'\n",
    "  AND substr(event_timestamp,1,10) BETWEEN '2021-03-01' AND '2021-09-01'\n",
    "'''"
   ]
  },
  {
   "cell_type": "code",
   "execution_count": 4,
   "id": "828e8be6",
   "metadata": {},
   "outputs": [
    {
     "name": "stderr",
     "output_type": "stream",
     "text": [
      "PySpark executors will use /usr/lib/anaconda-wmf/bin/python3.\n"
     ]
    }
   ],
   "source": [
    "edits_revert = spark.run(reverted_query)"
   ]
  },
  {
   "cell_type": "code",
   "execution_count": 7,
   "id": "47491131",
   "metadata": {},
   "outputs": [
    {
     "data": {
      "text/plain": [
       "369"
      ]
     },
     "execution_count": 7,
     "metadata": {},
     "output_type": "execute_result"
    }
   ],
   "source": [
    "#numnber of image edits reverted within 48 hours\n",
    "edits_revert['reverted'].sum()"
   ]
  },
  {
   "cell_type": "code",
   "execution_count": 9,
   "id": "e6be2c0c",
   "metadata": {},
   "outputs": [
    {
     "data": {
      "text/plain": [
       "0.018995161124266448"
      ]
     },
     "execution_count": 9,
     "metadata": {},
     "output_type": "execute_result"
    }
   ],
   "source": [
    "#proportion\n",
    "edits_revert['reverted'].sum()/edits_revert['reverted'].count()"
   ]
  },
  {
   "cell_type": "markdown",
   "id": "4201fe68",
   "metadata": {},
   "source": [
    "The proportion of image edits are reverted within 48 hours is 1.9%. As a reference, the 48-hour revert rate is 5.0% for overall edits and 2.4% for bot edits in Arabic Wikipedia."
   ]
  },
  {
   "cell_type": "markdown",
   "id": "8e89d0cc",
   "metadata": {},
   "source": [
    "## Number of  images per edit"
   ]
  },
  {
   "cell_type": "markdown",
   "id": "999e0c49",
   "metadata": {},
   "source": [
    "Use [API with action=compare](https://www.mediawiki.org/w/api.php?action=help&modules=compare) to identify how many images were added per edit."
   ]
  },
  {
   "cell_type": "code",
   "execution_count": 9,
   "id": "6e110cd8",
   "metadata": {},
   "outputs": [],
   "source": [
    "image_added = []\n",
    "\n",
    "#file name to look up: ملف\n",
    "file_str = 'ملف'\n",
    "\n",
    "for i in range(len(edits_revert)):\n",
    "        \n",
    "    try:\n",
    "        end_point = 'https://ar.wikipedia.org'\n",
    "        session = mwapi.Session(end_point, user_agent = \"get image count <cchen@wikimedia.org>\")\n",
    "        api_result = session.get(action='compare', fromrev=edits_revert.iloc[i]['revision_id'], torelative = \"prev\")\n",
    "            \n",
    "        diff_html = api_result['compare']['*']\n",
    "        image_conut = diff_html.count(file_str)\n",
    "                \n",
    "    except Exception:\n",
    "        image_conut = 0\n",
    "        \n",
    "    image_added.append(image_conut)\n",
    "        "
   ]
  },
  {
   "cell_type": "code",
   "execution_count": 13,
   "id": "d8e926c3",
   "metadata": {},
   "outputs": [],
   "source": [
    "image_added = pd.DataFrame(image_added).rename(columns={0: \"image_count\"})"
   ]
  },
  {
   "cell_type": "code",
   "execution_count": 14,
   "id": "1d9a168a",
   "metadata": {},
   "outputs": [],
   "source": [
    "edits_image = pd.concat([edits_revert, image_added],axis=1)"
   ]
  },
  {
   "cell_type": "code",
   "execution_count": 32,
   "id": "0b1125aa",
   "metadata": {},
   "outputs": [
    {
     "data": {
      "text/html": [
       "<div>\n",
       "<style scoped>\n",
       "    .dataframe tbody tr th:only-of-type {\n",
       "        vertical-align: middle;\n",
       "    }\n",
       "\n",
       "    .dataframe tbody tr th {\n",
       "        vertical-align: top;\n",
       "    }\n",
       "\n",
       "    .dataframe thead th {\n",
       "        text-align: right;\n",
       "    }\n",
       "</style>\n",
       "<table border=\"1\" class=\"dataframe\">\n",
       "  <thead>\n",
       "    <tr style=\"text-align: right;\">\n",
       "      <th></th>\n",
       "      <th>edit_count</th>\n",
       "      <th>pct_total</th>\n",
       "    </tr>\n",
       "    <tr>\n",
       "      <th>image_count</th>\n",
       "      <th></th>\n",
       "      <th></th>\n",
       "    </tr>\n",
       "  </thead>\n",
       "  <tbody>\n",
       "    <tr>\n",
       "      <th>0</th>\n",
       "      <td>1</td>\n",
       "      <td>0.000051</td>\n",
       "    </tr>\n",
       "    <tr>\n",
       "      <th>1</th>\n",
       "      <td>19255</td>\n",
       "      <td>0.991197</td>\n",
       "    </tr>\n",
       "    <tr>\n",
       "      <th>2</th>\n",
       "      <td>3</td>\n",
       "      <td>0.000154</td>\n",
       "    </tr>\n",
       "    <tr>\n",
       "      <th>3</th>\n",
       "      <td>126</td>\n",
       "      <td>0.006486</td>\n",
       "    </tr>\n",
       "    <tr>\n",
       "      <th>5</th>\n",
       "      <td>25</td>\n",
       "      <td>0.001287</td>\n",
       "    </tr>\n",
       "    <tr>\n",
       "      <th>7</th>\n",
       "      <td>7</td>\n",
       "      <td>0.000360</td>\n",
       "    </tr>\n",
       "    <tr>\n",
       "      <th>9</th>\n",
       "      <td>4</td>\n",
       "      <td>0.000206</td>\n",
       "    </tr>\n",
       "    <tr>\n",
       "      <th>11</th>\n",
       "      <td>1</td>\n",
       "      <td>0.000051</td>\n",
       "    </tr>\n",
       "    <tr>\n",
       "      <th>13</th>\n",
       "      <td>2</td>\n",
       "      <td>0.000103</td>\n",
       "    </tr>\n",
       "    <tr>\n",
       "      <th>21</th>\n",
       "      <td>2</td>\n",
       "      <td>0.000103</td>\n",
       "    </tr>\n",
       "  </tbody>\n",
       "</table>\n",
       "</div>"
      ],
      "text/plain": [
       "             edit_count  pct_total\n",
       "image_count                       \n",
       "0                     1   0.000051\n",
       "1                 19255   0.991197\n",
       "2                     3   0.000154\n",
       "3                   126   0.006486\n",
       "5                    25   0.001287\n",
       "7                     7   0.000360\n",
       "9                     4   0.000206\n",
       "11                    1   0.000051\n",
       "13                    2   0.000103\n",
       "21                    2   0.000103"
      ]
     },
     "execution_count": 32,
     "metadata": {},
     "output_type": "execute_result"
    }
   ],
   "source": [
    "edits_image.groupby(['image_count']).agg({'revision_id':'size'}).assign(pct_total=lambda x: x / x.sum()).rename(columns={'revision_id':'edit_count'})\n"
   ]
  },
  {
   "cell_type": "markdown",
   "id": "9502fe08",
   "metadata": {},
   "source": [
    "99.1% of the image edits by JarBot add 1 image to an article in each edits. "
   ]
  },
  {
   "cell_type": "code",
   "execution_count": 33,
   "id": "ec3e8d37",
   "metadata": {},
   "outputs": [
    {
     "data": {
      "text/html": [
       "<div>\n",
       "<style scoped>\n",
       "    .dataframe tbody tr th:only-of-type {\n",
       "        vertical-align: middle;\n",
       "    }\n",
       "\n",
       "    .dataframe tbody tr th {\n",
       "        vertical-align: top;\n",
       "    }\n",
       "\n",
       "    .dataframe thead th {\n",
       "        text-align: right;\n",
       "    }\n",
       "</style>\n",
       "<table border=\"1\" class=\"dataframe\">\n",
       "  <thead>\n",
       "    <tr style=\"text-align: right;\">\n",
       "      <th></th>\n",
       "      <th>edit_count</th>\n",
       "      <th>reverted</th>\n",
       "      <th>revert_rate</th>\n",
       "    </tr>\n",
       "    <tr>\n",
       "      <th>image_count</th>\n",
       "      <th></th>\n",
       "      <th></th>\n",
       "      <th></th>\n",
       "    </tr>\n",
       "  </thead>\n",
       "  <tbody>\n",
       "    <tr>\n",
       "      <th>0</th>\n",
       "      <td>1</td>\n",
       "      <td>0</td>\n",
       "      <td>0.000000</td>\n",
       "    </tr>\n",
       "    <tr>\n",
       "      <th>1</th>\n",
       "      <td>19255</td>\n",
       "      <td>369</td>\n",
       "      <td>0.019164</td>\n",
       "    </tr>\n",
       "    <tr>\n",
       "      <th>2</th>\n",
       "      <td>3</td>\n",
       "      <td>0</td>\n",
       "      <td>0.000000</td>\n",
       "    </tr>\n",
       "    <tr>\n",
       "      <th>3</th>\n",
       "      <td>126</td>\n",
       "      <td>0</td>\n",
       "      <td>0.000000</td>\n",
       "    </tr>\n",
       "    <tr>\n",
       "      <th>5</th>\n",
       "      <td>25</td>\n",
       "      <td>0</td>\n",
       "      <td>0.000000</td>\n",
       "    </tr>\n",
       "    <tr>\n",
       "      <th>7</th>\n",
       "      <td>7</td>\n",
       "      <td>0</td>\n",
       "      <td>0.000000</td>\n",
       "    </tr>\n",
       "    <tr>\n",
       "      <th>9</th>\n",
       "      <td>4</td>\n",
       "      <td>0</td>\n",
       "      <td>0.000000</td>\n",
       "    </tr>\n",
       "    <tr>\n",
       "      <th>11</th>\n",
       "      <td>1</td>\n",
       "      <td>0</td>\n",
       "      <td>0.000000</td>\n",
       "    </tr>\n",
       "    <tr>\n",
       "      <th>13</th>\n",
       "      <td>2</td>\n",
       "      <td>0</td>\n",
       "      <td>0.000000</td>\n",
       "    </tr>\n",
       "    <tr>\n",
       "      <th>21</th>\n",
       "      <td>2</td>\n",
       "      <td>0</td>\n",
       "      <td>0.000000</td>\n",
       "    </tr>\n",
       "  </tbody>\n",
       "</table>\n",
       "</div>"
      ],
      "text/plain": [
       "             edit_count  reverted  revert_rate\n",
       "image_count                                   \n",
       "0                     1         0     0.000000\n",
       "1                 19255       369     0.019164\n",
       "2                     3         0     0.000000\n",
       "3                   126         0     0.000000\n",
       "5                    25         0     0.000000\n",
       "7                     7         0     0.000000\n",
       "9                     4         0     0.000000\n",
       "11                    1         0     0.000000\n",
       "13                    2         0     0.000000\n",
       "21                    2         0     0.000000"
      ]
     },
     "execution_count": 33,
     "metadata": {},
     "output_type": "execute_result"
    }
   ],
   "source": [
    "summary = edits_image.groupby(['image_count']).agg({'revision_id':'size','reverted':'sum'}).rename(columns={'revision_id':'edit_count'})\n",
    "summary[\"revert_rate\"] = summary['reverted']/summary['edit_count']\n",
    "summary"
   ]
  },
  {
   "cell_type": "markdown",
   "id": "84be489f",
   "metadata": {},
   "source": [
    "We see that all the reverts are happening in image edits with 1 image added by JarBot. In this case, we dont have suffcient data to draw a relationship between number of images added per edit and revert rate."
   ]
  },
  {
   "cell_type": "markdown",
   "id": "4dc539cb",
   "metadata": {},
   "source": [
    "## Article topics and image edits"
   ]
  },
  {
   "cell_type": "markdown",
   "id": "1d44c920",
   "metadata": {},
   "source": [
    "Note that one article may have multiple topics. We are counting edits and reverts per article topic. When topics are aggregated, this results in double counting of articles and makes the totals edits and reverts look much bigger than they are."
   ]
  },
  {
   "cell_type": "code",
   "execution_count": 36,
   "id": "aacaaa54",
   "metadata": {},
   "outputs": [],
   "source": [
    "topic_query = '''\n",
    "SELECT \n",
    "  event_timestamp,\n",
    "  revision_id, \n",
    "  b.page_id,\n",
    "  ato.topic,\n",
    "  tc.main_topic, \n",
    "  tc.sub_topic,\n",
    "  CASE \n",
    "    WHEN event_entity = \"revision\" \n",
    "        AND revision_is_identity_reverted \n",
    "        AND revision_seconds_to_identity_revert <= 172800 THEN 1\n",
    "    ELSE 0 \n",
    "  END AS reverted\n",
    "FROM cchen.sd_jarbot_0301_0901 b\n",
    "  INNER JOIN wmf.mediawiki_history w ON (\n",
    "    b.rev_id = w.revision_id\n",
    "    AND w.wiki_db = 'arwiki'\n",
    "  )\n",
    "  INNER JOIN isaacj.article_topics_outlinks_2021_07 ato ON (\n",
    "    ato.wiki_db =  'arwiki'\n",
    "    AND b.page_id = ato.pageid\n",
    "    AND ato.score >= 0.5\n",
    "  )\n",
    "  LEFT JOIN cchen.topic_component tc ON ato.topic = tc.topic\n",
    "WHERE snapshot = '2021-08'\n",
    "  AND substr(event_timestamp,1,10) BETWEEN '2021-03-01' AND '2021-09-01'\n",
    "'''"
   ]
  },
  {
   "cell_type": "code",
   "execution_count": 35,
   "id": "8979d263",
   "metadata": {},
   "outputs": [
    {
     "name": "stderr",
     "output_type": "stream",
     "text": [
      "PySpark executors will use /usr/lib/anaconda-wmf/bin/python3.\n"
     ]
    }
   ],
   "source": [
    "edits_topic = spark.run(topic_query)"
   ]
  },
  {
   "cell_type": "code",
   "execution_count": 39,
   "id": "d461f9d7",
   "metadata": {},
   "outputs": [
    {
     "data": {
      "text/html": [
       "<div>\n",
       "<style scoped>\n",
       "    .dataframe tbody tr th:only-of-type {\n",
       "        vertical-align: middle;\n",
       "    }\n",
       "\n",
       "    .dataframe tbody tr th {\n",
       "        vertical-align: top;\n",
       "    }\n",
       "\n",
       "    .dataframe thead th {\n",
       "        text-align: right;\n",
       "    }\n",
       "</style>\n",
       "<table border=\"1\" class=\"dataframe\">\n",
       "  <thead>\n",
       "    <tr style=\"text-align: right;\">\n",
       "      <th></th>\n",
       "      <th>edit_count</th>\n",
       "      <th>pct_total</th>\n",
       "    </tr>\n",
       "    <tr>\n",
       "      <th>main_topic</th>\n",
       "      <th></th>\n",
       "      <th></th>\n",
       "    </tr>\n",
       "  </thead>\n",
       "  <tbody>\n",
       "    <tr>\n",
       "      <th>STEM</th>\n",
       "      <td>16931</td>\n",
       "      <td>0.388263</td>\n",
       "    </tr>\n",
       "    <tr>\n",
       "      <th>Geography</th>\n",
       "      <td>10268</td>\n",
       "      <td>0.235467</td>\n",
       "    </tr>\n",
       "    <tr>\n",
       "      <th>Culture</th>\n",
       "      <td>9445</td>\n",
       "      <td>0.216594</td>\n",
       "    </tr>\n",
       "    <tr>\n",
       "      <th>History_and_Society</th>\n",
       "      <td>6963</td>\n",
       "      <td>0.159676</td>\n",
       "    </tr>\n",
       "  </tbody>\n",
       "</table>\n",
       "</div>"
      ],
      "text/plain": [
       "                     edit_count  pct_total\n",
       "main_topic                                \n",
       "STEM                      16931   0.388263\n",
       "Geography                 10268   0.235467\n",
       "Culture                    9445   0.216594\n",
       "History_and_Society        6963   0.159676"
      ]
     },
     "execution_count": 39,
     "metadata": {},
     "output_type": "execute_result"
    }
   ],
   "source": [
    "edits_topic.groupby(['main_topic']).agg({'revision_id':'size'}).assign(pct_total=lambda x: x / x.sum()).rename(columns={'revision_id':'edit_count'}).sort_values(['edit_count'],ascending=False)"
   ]
  },
  {
   "cell_type": "code",
   "execution_count": 41,
   "id": "cf857dec",
   "metadata": {},
   "outputs": [
    {
     "data": {
      "text/html": [
       "<div>\n",
       "<style scoped>\n",
       "    .dataframe tbody tr th:only-of-type {\n",
       "        vertical-align: middle;\n",
       "    }\n",
       "\n",
       "    .dataframe tbody tr th {\n",
       "        vertical-align: top;\n",
       "    }\n",
       "\n",
       "    .dataframe thead th {\n",
       "        text-align: right;\n",
       "    }\n",
       "</style>\n",
       "<table border=\"1\" class=\"dataframe\">\n",
       "  <thead>\n",
       "    <tr style=\"text-align: right;\">\n",
       "      <th></th>\n",
       "      <th>edit_count</th>\n",
       "      <th>pct_total</th>\n",
       "    </tr>\n",
       "    <tr>\n",
       "      <th>topic</th>\n",
       "      <th></th>\n",
       "      <th></th>\n",
       "    </tr>\n",
       "  </thead>\n",
       "  <tbody>\n",
       "    <tr>\n",
       "      <th>STEM.STEM*</th>\n",
       "      <td>8087</td>\n",
       "      <td>0.185452</td>\n",
       "    </tr>\n",
       "    <tr>\n",
       "      <th>Geography.Regions.Europe.Europe*</th>\n",
       "      <td>2149</td>\n",
       "      <td>0.049281</td>\n",
       "    </tr>\n",
       "    <tr>\n",
       "      <th>Culture.Biography.Biography*</th>\n",
       "      <td>2054</td>\n",
       "      <td>0.047103</td>\n",
       "    </tr>\n",
       "    <tr>\n",
       "      <th>Culture.Philosophy_and_religion</th>\n",
       "      <td>2002</td>\n",
       "      <td>0.045910</td>\n",
       "    </tr>\n",
       "    <tr>\n",
       "      <th>STEM.Medicine_&amp;_Health</th>\n",
       "      <td>1990</td>\n",
       "      <td>0.045635</td>\n",
       "    </tr>\n",
       "    <tr>\n",
       "      <th>Geography.Regions.Asia.Asia*</th>\n",
       "      <td>1861</td>\n",
       "      <td>0.042677</td>\n",
       "    </tr>\n",
       "    <tr>\n",
       "      <th>History_and_Society.Politics_and_government</th>\n",
       "      <td>1660</td>\n",
       "      <td>0.038067</td>\n",
       "    </tr>\n",
       "    <tr>\n",
       "      <th>History_and_Society.History</th>\n",
       "      <td>1411</td>\n",
       "      <td>0.032357</td>\n",
       "    </tr>\n",
       "    <tr>\n",
       "      <th>STEM.Biology</th>\n",
       "      <td>1330</td>\n",
       "      <td>0.030500</td>\n",
       "    </tr>\n",
       "    <tr>\n",
       "      <th>STEM.Technology</th>\n",
       "      <td>1279</td>\n",
       "      <td>0.029330</td>\n",
       "    </tr>\n",
       "  </tbody>\n",
       "</table>\n",
       "</div>"
      ],
      "text/plain": [
       "                                             edit_count  pct_total\n",
       "topic                                                             \n",
       "STEM.STEM*                                         8087   0.185452\n",
       "Geography.Regions.Europe.Europe*                   2149   0.049281\n",
       "Culture.Biography.Biography*                       2054   0.047103\n",
       "Culture.Philosophy_and_religion                    2002   0.045910\n",
       "STEM.Medicine_&_Health                             1990   0.045635\n",
       "Geography.Regions.Asia.Asia*                       1861   0.042677\n",
       "History_and_Society.Politics_and_government        1660   0.038067\n",
       "History_and_Society.History                        1411   0.032357\n",
       "STEM.Biology                                       1330   0.030500\n",
       "STEM.Technology                                    1279   0.029330"
      ]
     },
     "execution_count": 41,
     "metadata": {},
     "output_type": "execute_result"
    }
   ],
   "source": [
    "edits_topic.groupby(['topic']).agg({'revision_id':'size'}).assign(pct_total=lambda x: x / x.sum()).rename(columns={'revision_id':'edit_count'}).sort_values(['edit_count'],ascending=False).head(10)\n"
   ]
  },
  {
   "cell_type": "markdown",
   "id": "29e92762",
   "metadata": {},
   "source": [
    "The image edits by JarBot were made accross all 64 topics (please refer to [the taxonomy](https://www.mediawiki.org/wiki/ORES/Articletopic) for a detailed list of article topics). The most edited main topic is STEM (38.8% of total edits). "
   ]
  },
  {
   "cell_type": "code",
   "execution_count": 44,
   "id": "1097fcb9",
   "metadata": {},
   "outputs": [
    {
     "data": {
      "text/html": [
       "<div>\n",
       "<style scoped>\n",
       "    .dataframe tbody tr th:only-of-type {\n",
       "        vertical-align: middle;\n",
       "    }\n",
       "\n",
       "    .dataframe tbody tr th {\n",
       "        vertical-align: top;\n",
       "    }\n",
       "\n",
       "    .dataframe thead th {\n",
       "        text-align: right;\n",
       "    }\n",
       "</style>\n",
       "<table border=\"1\" class=\"dataframe\">\n",
       "  <thead>\n",
       "    <tr style=\"text-align: right;\">\n",
       "      <th></th>\n",
       "      <th>edit_count</th>\n",
       "      <th>reverted</th>\n",
       "      <th>revert_rate</th>\n",
       "    </tr>\n",
       "    <tr>\n",
       "      <th>main_topic</th>\n",
       "      <th></th>\n",
       "      <th></th>\n",
       "      <th></th>\n",
       "    </tr>\n",
       "  </thead>\n",
       "  <tbody>\n",
       "    <tr>\n",
       "      <th>Culture</th>\n",
       "      <td>9445</td>\n",
       "      <td>366</td>\n",
       "      <td>0.038751</td>\n",
       "    </tr>\n",
       "    <tr>\n",
       "      <th>History_and_Society</th>\n",
       "      <td>6963</td>\n",
       "      <td>70</td>\n",
       "      <td>0.010053</td>\n",
       "    </tr>\n",
       "    <tr>\n",
       "      <th>Geography</th>\n",
       "      <td>10268</td>\n",
       "      <td>7</td>\n",
       "      <td>0.000682</td>\n",
       "    </tr>\n",
       "    <tr>\n",
       "      <th>STEM</th>\n",
       "      <td>16931</td>\n",
       "      <td>9</td>\n",
       "      <td>0.000532</td>\n",
       "    </tr>\n",
       "  </tbody>\n",
       "</table>\n",
       "</div>"
      ],
      "text/plain": [
       "                     edit_count  reverted  revert_rate\n",
       "main_topic                                            \n",
       "Culture                    9445       366     0.038751\n",
       "History_and_Society        6963        70     0.010053\n",
       "Geography                 10268         7     0.000682\n",
       "STEM                      16931         9     0.000532"
      ]
     },
     "execution_count": 44,
     "metadata": {},
     "output_type": "execute_result"
    }
   ],
   "source": [
    "summary_m = edits_topic.groupby(['main_topic']).agg({'revision_id':'size','reverted':'sum'}).rename(columns={'revision_id':'edit_count'})\n",
    "summary_m[\"revert_rate\"] = summary_m['reverted']/summary_m['edit_count']\n",
    "summary_m.sort_values(['revert_rate'],ascending=False)"
   ]
  },
  {
   "cell_type": "markdown",
   "id": "10c16289",
   "metadata": {},
   "source": [
    "The image edits by JarBot are more likely to be reverted in article with main topic Culture with a 3.9% revert rate, followed by History_and_Society topic with a 1% revert rate."
   ]
  },
  {
   "cell_type": "code",
   "execution_count": 46,
   "id": "e28dd9cb",
   "metadata": {},
   "outputs": [
    {
     "data": {
      "text/html": [
       "<div>\n",
       "<style scoped>\n",
       "    .dataframe tbody tr th:only-of-type {\n",
       "        vertical-align: middle;\n",
       "    }\n",
       "\n",
       "    .dataframe tbody tr th {\n",
       "        vertical-align: top;\n",
       "    }\n",
       "\n",
       "    .dataframe thead th {\n",
       "        text-align: right;\n",
       "    }\n",
       "</style>\n",
       "<table border=\"1\" class=\"dataframe\">\n",
       "  <thead>\n",
       "    <tr style=\"text-align: right;\">\n",
       "      <th></th>\n",
       "      <th>edit_count</th>\n",
       "      <th>reverted</th>\n",
       "      <th>revert_rate</th>\n",
       "    </tr>\n",
       "    <tr>\n",
       "      <th>topic</th>\n",
       "      <th></th>\n",
       "      <th></th>\n",
       "      <th></th>\n",
       "    </tr>\n",
       "  </thead>\n",
       "  <tbody>\n",
       "    <tr>\n",
       "      <th>Culture.Biography.Biography*</th>\n",
       "      <td>2054</td>\n",
       "      <td>363</td>\n",
       "      <td>0.176728</td>\n",
       "    </tr>\n",
       "    <tr>\n",
       "      <th>History_and_Society.History</th>\n",
       "      <td>1411</td>\n",
       "      <td>69</td>\n",
       "      <td>0.048901</td>\n",
       "    </tr>\n",
       "    <tr>\n",
       "      <th>STEM.STEM*</th>\n",
       "      <td>8087</td>\n",
       "      <td>5</td>\n",
       "      <td>0.000618</td>\n",
       "    </tr>\n",
       "    <tr>\n",
       "      <th>STEM.Medicine_&amp;_Health</th>\n",
       "      <td>1990</td>\n",
       "      <td>2</td>\n",
       "      <td>0.001005</td>\n",
       "    </tr>\n",
       "    <tr>\n",
       "      <th>Geography.Regions.Europe.Europe*</th>\n",
       "      <td>2149</td>\n",
       "      <td>2</td>\n",
       "      <td>0.000931</td>\n",
       "    </tr>\n",
       "    <tr>\n",
       "      <th>Culture.Sports</th>\n",
       "      <td>450</td>\n",
       "      <td>1</td>\n",
       "      <td>0.002222</td>\n",
       "    </tr>\n",
       "    <tr>\n",
       "      <th>STEM.Space</th>\n",
       "      <td>344</td>\n",
       "      <td>1</td>\n",
       "      <td>0.002907</td>\n",
       "    </tr>\n",
       "    <tr>\n",
       "      <th>STEM.Computing</th>\n",
       "      <td>803</td>\n",
       "      <td>1</td>\n",
       "      <td>0.001245</td>\n",
       "    </tr>\n",
       "    <tr>\n",
       "      <th>History_and_Society.Military_and_warfare</th>\n",
       "      <td>993</td>\n",
       "      <td>1</td>\n",
       "      <td>0.001007</td>\n",
       "    </tr>\n",
       "    <tr>\n",
       "      <th>Geography.Regions.Europe.Southern_Europe</th>\n",
       "      <td>595</td>\n",
       "      <td>1</td>\n",
       "      <td>0.001681</td>\n",
       "    </tr>\n",
       "  </tbody>\n",
       "</table>\n",
       "</div>"
      ],
      "text/plain": [
       "                                          edit_count  reverted  revert_rate\n",
       "topic                                                                      \n",
       "Culture.Biography.Biography*                    2054       363     0.176728\n",
       "History_and_Society.History                     1411        69     0.048901\n",
       "STEM.STEM*                                      8087         5     0.000618\n",
       "STEM.Medicine_&_Health                          1990         2     0.001005\n",
       "Geography.Regions.Europe.Europe*                2149         2     0.000931\n",
       "Culture.Sports                                   450         1     0.002222\n",
       "STEM.Space                                       344         1     0.002907\n",
       "STEM.Computing                                   803         1     0.001245\n",
       "History_and_Society.Military_and_warfare         993         1     0.001007\n",
       "Geography.Regions.Europe.Southern_Europe         595         1     0.001681"
      ]
     },
     "execution_count": 46,
     "metadata": {},
     "output_type": "execute_result"
    }
   ],
   "source": [
    "summary_t = edits_topic.groupby(['topic']).agg({'revision_id':'size','reverted':'sum'}).rename(columns={'revision_id':'edit_count'})\n",
    "summary_t[\"revert_rate\"] = summary_t['reverted']/summary_t['edit_count']\n",
    "summary_t.sort_values(['reverted'],ascending=False).head(10)"
   ]
  },
  {
   "cell_type": "markdown",
   "id": "0b9e0529",
   "metadata": {},
   "source": [
    "Most of the reverts were made to Culture.Biography.Biography* topic with a 17.7% revert rate. And 4.9% of History_and_Society.History topic edits get reverted. In other topics, the revert rates are comparatively lower. "
   ]
  }
 ],
 "metadata": {
  "kernelspec": {
   "display_name": "Python 3",
   "language": "python",
   "name": "python3"
  },
  "language_info": {
   "codemirror_mode": {
    "name": "ipython",
    "version": 3
   },
   "file_extension": ".py",
   "mimetype": "text/x-python",
   "name": "python",
   "nbconvert_exporter": "python",
   "pygments_lexer": "ipython3",
   "version": "3.7.6"
  }
 },
 "nbformat": 4,
 "nbformat_minor": 5
}
