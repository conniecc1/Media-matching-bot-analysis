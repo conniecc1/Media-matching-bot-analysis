{
 "cells": [
  {
   "cell_type": "markdown",
   "id": "4679628c",
   "metadata": {},
   "source": [
    "# Media Matching Bot - JarBot (arzwiki)"
   ]
  },
  {
   "cell_type": "markdown",
   "id": "a0a9be05",
   "metadata": {},
   "source": [
    "[T275888](https://phabricator.wikimedia.org/T275888)"
   ]
  },
  {
   "cell_type": "markdown",
   "id": "612279c2",
   "metadata": {},
   "source": [
    "## Purpose"
   ]
  },
  {
   "cell_type": "markdown",
   "id": "309ce3bf",
   "metadata": {},
   "source": [
    "Structured data team are working on an API that will allow bot writers to automatically add highly relevant images to specific articles.\n",
    "\n",
    "In order to undersrand how and whether to continue to move forward or if any major changes need to be made, we would like to collect metrics about the health of the project:\n",
    "\n",
    "- How many edits are made by bots to add images?\n",
    "- What proportion of those edits are reverted within 48 hours (aka “unconstructive edits”)? \n",
    "- How many images are added to an article in each edit?\n",
    "- Are there certain topic areas where images added by bots are more likely to be reverted"
   ]
  },
  {
   "cell_type": "code",
   "execution_count": 1,
   "id": "5885472c",
   "metadata": {},
   "outputs": [
    {
     "name": "stderr",
     "output_type": "stream",
     "text": [
      "You are using wmfdata v1.3.1, but v1.3.3 is available.\n",
      "\n",
      "To update, run `pip install --upgrade git+https://github.com/wikimedia/wmfdata-python.git@release --ignore-installed`.\n",
      "\n",
      "To see the changes, refer to https://github.com/wikimedia/wmfdata-python/blob/release/CHANGELOG.md\n"
     ]
    }
   ],
   "source": [
    "import datetime as dt\n",
    "import re\n",
    "\n",
    "import pandas as pd\n",
    "import numpy as np\n",
    "\n",
    "from wmfdata import spark"
   ]
  },
  {
   "cell_type": "code",
   "execution_count": 4,
   "id": "48a46b1c-33f4-44bb-a2d1-0e49ae33cabb",
   "metadata": {},
   "outputs": [
    {
     "name": "stderr",
     "output_type": "stream",
     "text": [
      "PySpark executors will use /usr/lib/anaconda-wmf/bin/python3.\n"
     ]
    }
   ],
   "source": [
    "spark_session = spark.get_session(app_name='pyspark regular; media-changes',\n",
    "                                  type='yarn-large', # local, yarn-regular, yarn-large\n",
    "                                  )  "
   ]
  },
  {
   "cell_type": "markdown",
   "id": "04c5d1c4-a47c-4066-bcbc-591e9021607b",
   "metadata": {},
   "source": [
    "For this analysis, we are collecting metrics for JarBot running on Egyptian Arabic Wikipedia from April 2022 to May 2022."
   ]
  },
  {
   "cell_type": "code",
   "execution_count": 5,
   "id": "e952fd0e-03b2-43de-846a-c854603323ff",
   "metadata": {},
   "outputs": [],
   "source": [
    "mw_snapshot = '2022-05'  \n",
    "wiki_db = 'arzwiki'\n",
    "\n",
    "start_timestamp = '2022-04-01' \n",
    "end_timestamp = '2022-06-01'\n",
    "\n",
    "bot_name = 'JarBot'\n",
    "media_list_table = 'cchen.arz_jarbot_edits'"
   ]
  },
  {
   "cell_type": "markdown",
   "id": "6d4274f1",
   "metadata": {},
   "source": [
    "## Data Collection"
   ]
  },
  {
   "cell_type": "code",
   "execution_count": 6,
   "id": "631662b0-15d4-4f7c-991d-68890bf7bd02",
   "metadata": {},
   "outputs": [],
   "source": [
    "MEDIA_PREFIXES = ['File', 'Image', 'Media']\n",
    "MEDIA_ALIASES = {\"arz\": [\"ميديا\", \"صورة\", \"وسائط\", \"ملف\"]}\n",
    "\n",
    "# https://commons.wikimedia.org/wiki/Commons:File_types\n",
    "IMAGE_EXTENSIONS = ['.jpg', '.jpeg', '.png', '.svg', '.gif','.tif', '.bmp', '.webp', '.xcf','.djvu', '.pdf']\n",
    "VIDEO_EXTENSIONS = ['.ogv', '.webm', '.mpg', '.mpeg']\n",
    "AUDIO_EXTENSIONS = ['.ogg', '.mp3', '.mid', '.webm', '.flac', '.wav', '.oga']\n",
    "MEDIA_EXTENSIONS = list(set(IMAGE_EXTENSIONS + VIDEO_EXTENSIONS + AUDIO_EXTENSIONS))"
   ]
  },
  {
   "cell_type": "code",
   "execution_count": 7,
   "id": "399132af-4ce8-448c-af87-f4ae0ef049af",
   "metadata": {},
   "outputs": [
    {
     "data": {
      "text/plain": [
       "<function __main__.getMedia(wikitext, wiki_db='enwiki', max_link_length=240)>"
      ]
     },
     "execution_count": 7,
     "metadata": {},
     "output_type": "execute_result"
    }
   ],
   "source": [
    "exten_regex = ('(' + '|'.join([e + '\\\\b' for e in MEDIA_EXTENSIONS]) + ')').replace('.', '\\.')\n",
    "extension_pattern = re.compile(f'([\\w ,\\(\\)\\.-]+){exten_regex}', flags=re.UNICODE)\n",
    "bracket_pattern = re.compile('(?<=\\[\\[)(.*?)(?=\\]\\])', flags=re.DOTALL)\n",
    "\n",
    "# NOTE: I explored several approaches to this function and how they impacted speed:\n",
    "# * mwparserfromhell parsing substantially increases processing time, even compared to many regexes\n",
    "# * Reducing down the number of extensions considered has a very minimal impact on time\n",
    "# * Removing the first regex that extracts links has a very minimal impact on time. In theory it should be mostly unnecessary but will catch some rare file extensions.\n",
    "# * Ignoring upper-case file extensions (e.g., .JPG) by not lower-casing the wikitext and just doing .findall over the iterative .search has very little impact on time\n",
    "\n",
    "def getMedia(wikitext, wiki_db='enwiki', max_link_length=240):\n",
    "    \"\"\"Gather counts of media files found directly in wikitext.\n",
    "    \n",
    "    See https://phabricator.wikimedia.org/T299712 for more details.\n",
    "    Link length: https://commons.wikimedia.org/wiki/Commons:File_naming#Length\n",
    "    \"\"\"\n",
    "    lang = wiki_db.replace('wiki', '')\n",
    "    try:\n",
    "        # find standard bracket-syntax links -- this likely could be dropped but adds minimal overhead\n",
    "        med_prefixes = MEDIA_PREFIXES + MEDIA_ALIASES.get(lang, [])\n",
    "        links = bracket_pattern.findall(wikitext)\n",
    "        bracket_links = set([l.split(':', maxsplit=1)[1].split('|', maxsplit=1)[0].strip() for l in links if l.split(':', maxsplit=1)[0] in med_prefixes])\n",
    "        \n",
    "        # supplement with links outside brackets as determined via known file extensions\n",
    "        # lower-case to handle e.g., .JPG instead of .jpg when searching for file extensions\n",
    "        lc_wt = wikitext.lower()\n",
    "        exten_links = []\n",
    "        end = 0\n",
    "        while True:\n",
    "            m = extension_pattern.search(lc_wt, pos=end)\n",
    "            if m is None:\n",
    "                break\n",
    "            start, end = m.span()\n",
    "            exten_links.append(wikitext[start:end].strip())\n",
    "        return [l.replace('\\n', ' ') for l in bracket_links.union(exten_links) if len(l) <= max_link_length]\n",
    "    except Exception:\n",
    "        return None\n",
    "    \n",
    "spark_session.udf.register('getMedia', getMedia, 'ARRAY<String>')"
   ]
  },
  {
   "cell_type": "code",
   "execution_count": 8,
   "id": "9667cde2-26f6-4b7c-8314-004c666436ac",
   "metadata": {},
   "outputs": [
    {
     "data": {
      "text/plain": [
       "<function __main__.compareMediaLists(curr_media, prev_media)>"
      ]
     },
     "execution_count": 8,
     "metadata": {},
     "output_type": "execute_result"
    }
   ],
   "source": [
    "def compareMediaLists(curr_media, prev_media):\n",
    "    \"\"\"Compare two media lists to determine what changed.\"\"\"\n",
    "    try:\n",
    "        changes = []\n",
    "        unaligned = set(curr_media) ^ set(prev_media)\n",
    "        for m in unaligned:\n",
    "            if m in curr_media:\n",
    "                changes.append((m, 1))\n",
    "            elif m in prev_media:\n",
    "                changes.append((m, -1))\n",
    "        return changes\n",
    "    except Exception:\n",
    "        return None\n",
    "    \n",
    "spark_session.udf.register('compareMediaLists', compareMediaLists, 'ARRAY<STRUCT<filename:STRING, action:INT>>')"
   ]
  },
  {
   "cell_type": "code",
   "execution_count": 9,
   "id": "a494647d-ffdc-4cc5-b4a6-acbc14c3d4e0",
   "metadata": {},
   "outputs": [
    {
     "data": {
      "text/plain": [
       "DataFrame[]"
      ]
     },
     "execution_count": 9,
     "metadata": {},
     "output_type": "execute_result"
    }
   ],
   "source": [
    "## Creare media list\n",
    "\n",
    "create_table_query = f\"\"\"\n",
    "    CREATE TABLE IF NOT EXISTS {media_list_table} (\n",
    "        wiki_db                         STRING         COMMENT 'Wiki -- e.g., enwiki for English',\n",
    "        page_id                         INT            COMMENT 'Article page ID',\n",
    "        event_timestamp                 TIMESTAMP      ,\n",
    "        revision_id                     BIGINT         COMMENT 'Revision ID',\n",
    "        revision_parent_id              BIGINT         COMMENT 'Revision ID of parent revision',\n",
    "        revision_is_identity_reverted   BOOLEAN        COMMENT 'Was revision reverted?',\n",
    "        revision_is_identity_revert     BOOLEAN        COMMENT 'Did revision restore a previous revision?',\n",
    "        revision_seconds_to_identity_revert    BIGINT        COMMENT 'seconds elapsed between revision posting and its revert',\n",
    "        revision_tags                   ARRAY<STRING>  COMMENT 'Edit tags associated with revision',\n",
    "        cur_rev_media_array             ARRAY<STRING>  COMMENT 'List of images in current revision',\n",
    "        par_rev_media_array             ARRAY<STRING>  COMMENT 'List of images in parent revision'\n",
    "    )\n",
    "    \"\"\"\n",
    "\n",
    "spark_session.sql(create_table_query)"
   ]
  },
  {
   "cell_type": "code",
   "execution_count": 10,
   "id": "3c1c8e28-a962-45a8-8f62-766fa61a26a5",
   "metadata": {},
   "outputs": [],
   "source": [
    "media_list_query  = \"\"\"\n",
    "\n",
    "WITH revisions AS (\n",
    "    SELECT\n",
    "      wiki_db,\n",
    "      page_id,\n",
    "      event_timestamp,\n",
    "      revision_id,\n",
    "      revision_parent_id,\n",
    "      revision_is_identity_reverted,\n",
    "      revision_is_identity_revert,\n",
    "      revision_seconds_to_identity_revert,\n",
    "      revision_tags\n",
    "    FROM wmf.mediawiki_history\n",
    "    WHERE\n",
    "      snapshot = '{mw_snapshot}'\n",
    "      AND wiki_db = '{wiki_db}'\n",
    "      AND page_namespace = 0\n",
    "      AND event_type = 'create'\n",
    "      AND event_entity = 'revision'\n",
    "       AND event_timestamp >= '{start_timestamp}'\n",
    "      AND event_timestamp < '{end_timestamp}'\n",
    "      AND event_user_text = '{bot_name}'\n",
    "      AND NOT page_is_redirect\n",
    "),\n",
    "all_revision_ids AS (\n",
    "    SELECT DISTINCT\n",
    "      wiki_db,\n",
    "      rev_id\n",
    "    FROM (\n",
    "        SELECT\n",
    "          wiki_db,\n",
    "          revision_id AS rev_id\n",
    "        FROM revisions\n",
    "        UNION ALL\n",
    "        SELECT\n",
    "          wiki_db,\n",
    "          revision_parent_id AS rev_id\n",
    "        FROM revisions\n",
    "    ) r\n",
    "),\n",
    "media_lists AS (\n",
    "    SELECT\n",
    "      r.wiki_db,\n",
    "      r.rev_id,\n",
    "      getMedia(revision_text, wt.wiki_db) AS media_array\n",
    "    FROM wmf.mediawiki_wikitext_history wt\n",
    "    INNER JOIN all_revision_ids r\n",
    "      ON (wt.wiki_db = r.wiki_db\n",
    "          AND wt.revision_id = r.rev_id)\n",
    "    WHERE\n",
    "      snapshot = '{mw_snapshot}'\n",
    "      AND wt.wiki_db = '{wiki_db}'\n",
    ")\n",
    "\n",
    "INSERT OVERWRITE TABLE {media_list_table}     \n",
    "SELECT\n",
    "  r.wiki_db,\n",
    "  page_id,\n",
    "  event_timestamp,\n",
    "  revision_id,\n",
    "  revision_parent_id,\n",
    "  revision_is_identity_reverted,\n",
    "  revision_is_identity_revert,\n",
    "  revision_seconds_to_identity_revert,\n",
    "  revision_tags,\n",
    "  c.media_array AS cur_rev_media_array,\n",
    "  p.media_array AS par_rev_media_array\n",
    "FROM revisions r\n",
    "LEFT JOIN media_lists c\n",
    "  ON (r.wiki_db = c.wiki_db\n",
    "      AND r.revision_id = c.rev_id)\n",
    "LEFT JOIN media_lists p\n",
    "  ON (r.wiki_db = p.wiki_db\n",
    "      AND r.revision_parent_id = p.rev_id)\n",
    "\"\"\""
   ]
  },
  {
   "cell_type": "code",
   "execution_count": 11,
   "id": "e187b65f-f303-4d62-8ccf-11d5f0070538",
   "metadata": {},
   "outputs": [
    {
     "name": "stderr",
     "output_type": "stream",
     "text": [
      "PySpark executors will use /usr/lib/anaconda-wmf/bin/python3.\n",
      "22/06/20 00:23:30 WARN Utils: Truncated the string representation of a plan since it was too large. This behavior can be adjusted by setting 'spark.debug.maxToStringFields' in SparkEnv.conf.\n",
      "                                                                                4]]]\r"
     ]
    }
   ],
   "source": [
    "data = spark.run(media_list_query.format(\n",
    "            mw_snapshot = mw_snapshot,\n",
    "            start_timestamp = start_timestamp,\n",
    "            end_timestamp = end_timestamp ,\n",
    "            wiki_db = wiki_db,\n",
    "            bot_name = bot_name,\n",
    "            media_list_table = media_list_table ))"
   ]
  },
  {
   "cell_type": "markdown",
   "id": "ae7d5c34",
   "metadata": {},
   "source": [
    "## Edits Count"
   ]
  },
  {
   "cell_type": "code",
   "execution_count": 12,
   "id": "03e202df",
   "metadata": {},
   "outputs": [],
   "source": [
    "edits_count_query = '''\n",
    "SELECT \n",
    "  SUBSTR(event_timestamp,0,11) AS `date`,\n",
    "  COUNT(DISTINCT(revision_id)) AS rev\n",
    "FROM {media_list_table}\n",
    "GROUP BY SUBSTR(event_timestamp,0,11)\n",
    "'''"
   ]
  },
  {
   "cell_type": "code",
   "execution_count": 13,
   "id": "c00f16aa",
   "metadata": {},
   "outputs": [
    {
     "name": "stderr",
     "output_type": "stream",
     "text": [
      "PySpark executors will use /usr/lib/anaconda-wmf/bin/python3.\n",
      "                                                                                \r"
     ]
    }
   ],
   "source": [
    "edits_count = spark.run(edits_count_query.format(\n",
    "                media_list_table = media_list_table))"
   ]
  },
  {
   "cell_type": "code",
   "execution_count": 14,
   "id": "99eb3825",
   "metadata": {},
   "outputs": [
    {
     "data": {
      "text/html": [
       "<div>\n",
       "<style scoped>\n",
       "    .dataframe tbody tr th:only-of-type {\n",
       "        vertical-align: middle;\n",
       "    }\n",
       "\n",
       "    .dataframe tbody tr th {\n",
       "        vertical-align: top;\n",
       "    }\n",
       "\n",
       "    .dataframe thead th {\n",
       "        text-align: right;\n",
       "    }\n",
       "</style>\n",
       "<table border=\"1\" class=\"dataframe\">\n",
       "  <thead>\n",
       "    <tr style=\"text-align: right;\">\n",
       "      <th></th>\n",
       "      <th>date</th>\n",
       "      <th>rev</th>\n",
       "    </tr>\n",
       "  </thead>\n",
       "  <tbody>\n",
       "    <tr>\n",
       "      <th>0</th>\n",
       "      <td>2022-05-03</td>\n",
       "      <td>32718</td>\n",
       "    </tr>\n",
       "    <tr>\n",
       "      <th>1</th>\n",
       "      <td>2022-04-25</td>\n",
       "      <td>6</td>\n",
       "    </tr>\n",
       "    <tr>\n",
       "      <th>2</th>\n",
       "      <td>2022-04-23</td>\n",
       "      <td>557</td>\n",
       "    </tr>\n",
       "  </tbody>\n",
       "</table>\n",
       "</div>"
      ],
      "text/plain": [
       "          date    rev\n",
       "0  2022-05-03   32718\n",
       "1  2022-04-25       6\n",
       "2  2022-04-23     557"
      ]
     },
     "execution_count": 14,
     "metadata": {},
     "output_type": "execute_result"
    }
   ],
   "source": [
    "edits_count"
   ]
  },
  {
   "cell_type": "code",
   "execution_count": 15,
   "id": "ee0d4d71",
   "metadata": {},
   "outputs": [
    {
     "data": {
      "text/plain": [
       "33281"
      ]
     },
     "execution_count": 15,
     "metadata": {},
     "output_type": "execute_result"
    }
   ],
   "source": [
    "#total image edits count\n",
    "edits_count['rev'].sum()"
   ]
  },
  {
   "cell_type": "markdown",
   "id": "9861df11",
   "metadata": {},
   "source": [
    "## Reverted edits"
   ]
  },
  {
   "cell_type": "code",
   "execution_count": 16,
   "id": "39b0b85f",
   "metadata": {},
   "outputs": [],
   "source": [
    "reverted_query = '''\n",
    "SELECT \n",
    "  event_timestamp,\n",
    "  revision_id, \n",
    "  CASE \n",
    "    WHEN revision_is_identity_reverted \n",
    "        AND revision_seconds_to_identity_revert <= 172800 THEN 1\n",
    "    ELSE 0 \n",
    "  END AS reverted\n",
    "FROM {media_list_table}\n",
    "'''"
   ]
  },
  {
   "cell_type": "code",
   "execution_count": 17,
   "id": "341016bc",
   "metadata": {},
   "outputs": [
    {
     "name": "stderr",
     "output_type": "stream",
     "text": [
      "PySpark executors will use /usr/lib/anaconda-wmf/bin/python3.\n",
      "                                                                                \r"
     ]
    }
   ],
   "source": [
    "edits_revert = spark.run(reverted_query.format(\n",
    "                media_list_table = media_list_table))"
   ]
  },
  {
   "cell_type": "code",
   "execution_count": 18,
   "id": "4880c4b4",
   "metadata": {},
   "outputs": [
    {
     "data": {
      "text/plain": [
       "3"
      ]
     },
     "execution_count": 18,
     "metadata": {},
     "output_type": "execute_result"
    }
   ],
   "source": [
    "#numnber of image edits reverted within 48 hours\n",
    "edits_revert['reverted'].sum()"
   ]
  },
  {
   "cell_type": "code",
   "execution_count": 19,
   "id": "657b2d91",
   "metadata": {},
   "outputs": [
    {
     "data": {
      "text/plain": [
       "9.014152218983804e-05"
      ]
     },
     "execution_count": 19,
     "metadata": {},
     "output_type": "execute_result"
    }
   ],
   "source": [
    "#proportion\n",
    "edits_revert['reverted'].sum()/edits_revert['reverted'].count()"
   ]
  },
  {
   "cell_type": "markdown",
   "id": "5d3b086a",
   "metadata": {},
   "source": [
    "The proportion of image edits are reverted within 48 hours is 0.009%. As a reference, the 48-hour revert rate is 2.3% for overall edits and 0.3% for bot edits in Egyptian Arabic Wikipedia."
   ]
  },
  {
   "cell_type": "markdown",
   "id": "e88e98ad",
   "metadata": {},
   "source": [
    "## Number of  images per edit"
   ]
  },
  {
   "cell_type": "code",
   "execution_count": 20,
   "id": "f5fdbd4d-865e-4d96-b4f6-98742fca1295",
   "metadata": {},
   "outputs": [],
   "source": [
    "image_edits_query = \"\"\" \n",
    "\n",
    "SELECT\n",
    "      wiki_db,\n",
    "      page_id,\n",
    "      revision_id,\n",
    "      IF(revision_is_identity_reverted AND revision_seconds_to_identity_revert <= 172800 , TRUE, FALSE) AS was_reverted,\n",
    "      INLINE(compareMediaLists(cur_rev_media_array, par_rev_media_array))\n",
    "FROM {media_list_table} m\n",
    "WHERE\n",
    "     revision_id IS NOT NULL\n",
    "\n",
    "\"\"\""
   ]
  },
  {
   "cell_type": "code",
   "execution_count": 21,
   "id": "9de2ce8c-fb3c-4554-9b20-5a78cb80f77f",
   "metadata": {},
   "outputs": [
    {
     "name": "stderr",
     "output_type": "stream",
     "text": [
      "PySpark executors will use /usr/lib/anaconda-wmf/bin/python3.\n",
      "                                                                                \r"
     ]
    }
   ],
   "source": [
    "image_edits = spark.run(image_edits_query.format(\n",
    "                media_list_table = media_list_table))"
   ]
  },
  {
   "cell_type": "code",
   "execution_count": 24,
   "id": "57a64ffd-b301-41a0-8b1f-ef2078c128e2",
   "metadata": {},
   "outputs": [],
   "source": [
    "image_edits_sdf = spark_session.createDataFrame(image_edits)\n",
    "image_edits_sdf.createGlobalTempView(\"image_edits_temp\")"
   ]
  },
  {
   "cell_type": "code",
   "execution_count": 25,
   "id": "d411ff3a-a17b-4a53-8aba-df12624bc461",
   "metadata": {},
   "outputs": [],
   "source": [
    "image_count_query = \"\"\"\n",
    "SELECT revision_id,COUNT(*) AS image_count\n",
    "FROM global_temp.image_edits_temp\n",
    "WHERE action = 1\n",
    "GROUP BY revision_id\n",
    "\"\"\""
   ]
  },
  {
   "cell_type": "code",
   "execution_count": 26,
   "id": "aa97f291-a591-4545-b274-dc90d0f82616",
   "metadata": {},
   "outputs": [
    {
     "name": "stderr",
     "output_type": "stream",
     "text": [
      "PySpark executors will use /usr/lib/anaconda-wmf/bin/python3.\n",
      "                                                                                \r"
     ]
    }
   ],
   "source": [
    "image_count = spark.run(image_count_query)"
   ]
  },
  {
   "cell_type": "code",
   "execution_count": 27,
   "id": "048ccd2d-9183-4537-b007-abbd282e1a9b",
   "metadata": {},
   "outputs": [
    {
     "data": {
      "text/plain": [
       "34687"
      ]
     },
     "execution_count": 27,
     "metadata": {},
     "output_type": "execute_result"
    }
   ],
   "source": [
    "image_count ['image_count'].sum()"
   ]
  },
  {
   "cell_type": "markdown",
   "id": "127a841c-5257-458e-9db0-19a66d4f98c4",
   "metadata": {},
   "source": [
    "In total 34,687 images were added by JarBot on Egyptian Arabic Wikipedia."
   ]
  },
  {
   "cell_type": "code",
   "execution_count": 28,
   "id": "5d3e2f77",
   "metadata": {},
   "outputs": [
    {
     "data": {
      "text/html": [
       "<div>\n",
       "<style scoped>\n",
       "    .dataframe tbody tr th:only-of-type {\n",
       "        vertical-align: middle;\n",
       "    }\n",
       "\n",
       "    .dataframe tbody tr th {\n",
       "        vertical-align: top;\n",
       "    }\n",
       "\n",
       "    .dataframe thead th {\n",
       "        text-align: right;\n",
       "    }\n",
       "</style>\n",
       "<table border=\"1\" class=\"dataframe\">\n",
       "  <thead>\n",
       "    <tr style=\"text-align: right;\">\n",
       "      <th></th>\n",
       "      <th>edit_count</th>\n",
       "      <th>pct_total</th>\n",
       "    </tr>\n",
       "    <tr>\n",
       "      <th>image_count</th>\n",
       "      <th></th>\n",
       "      <th></th>\n",
       "    </tr>\n",
       "  </thead>\n",
       "  <tbody>\n",
       "    <tr>\n",
       "      <th>1</th>\n",
       "      <td>31873</td>\n",
       "      <td>0.957722</td>\n",
       "    </tr>\n",
       "    <tr>\n",
       "      <th>2</th>\n",
       "      <td>1407</td>\n",
       "      <td>0.042278</td>\n",
       "    </tr>\n",
       "  </tbody>\n",
       "</table>\n",
       "</div>"
      ],
      "text/plain": [
       "             edit_count  pct_total\n",
       "image_count                       \n",
       "1                 31873   0.957722\n",
       "2                  1407   0.042278"
      ]
     },
     "execution_count": 28,
     "metadata": {},
     "output_type": "execute_result"
    }
   ],
   "source": [
    "image_count.groupby(['image_count']).agg({'revision_id':'size'}).assign(pct_total=lambda x: x / x.sum()).rename(columns={'revision_id':'edit_count'})\n"
   ]
  },
  {
   "cell_type": "markdown",
   "id": "0c00ced5",
   "metadata": {},
   "source": [
    "95.8% of the image edits by JarBot add 1 image to an article in each edits. "
   ]
  },
  {
   "cell_type": "markdown",
   "id": "92866a7c",
   "metadata": {},
   "source": [
    "## Article topics and image edits"
   ]
  },
  {
   "cell_type": "markdown",
   "id": "d370fa85",
   "metadata": {},
   "source": [
    "Note that one article may have multiple topics. We are counting edits and reverts per article topic. When topics are aggregated, this results in double counting of articles and makes the totals edits and reverts look much bigger than they are."
   ]
  },
  {
   "cell_type": "code",
   "execution_count": 30,
   "id": "92240e75",
   "metadata": {},
   "outputs": [],
   "source": [
    "topic_query = '''\n",
    "SELECT \n",
    "  revision_id, \n",
    "  b.page_id,\n",
    "  ato.topic,\n",
    "  tc.main_topic, \n",
    "  tc.sub_topic,\n",
    "  was_reverted\n",
    "FROM global_temp.image_edits_temp b\n",
    "INNER JOIN isaacj.article_topics_outlinks_2021_11 ato ON (\n",
    "    ato.wiki_db =  'arzwiki'\n",
    "    AND b.page_id = ato.pageid\n",
    "    AND ato.score >= 0.5\n",
    "  )\n",
    "LEFT JOIN cchen.topic_component tc ON ato.topic = tc.topic\n",
    "'''"
   ]
  },
  {
   "cell_type": "code",
   "execution_count": 31,
   "id": "19c36634",
   "metadata": {},
   "outputs": [
    {
     "name": "stderr",
     "output_type": "stream",
     "text": [
      "PySpark executors will use /usr/lib/anaconda-wmf/bin/python3.\n",
      "                                                                                \r"
     ]
    }
   ],
   "source": [
    "edits_topic = spark.run(topic_query)"
   ]
  },
  {
   "cell_type": "code",
   "execution_count": 32,
   "id": "6e1a4708",
   "metadata": {},
   "outputs": [
    {
     "data": {
      "text/html": [
       "<div>\n",
       "<style scoped>\n",
       "    .dataframe tbody tr th:only-of-type {\n",
       "        vertical-align: middle;\n",
       "    }\n",
       "\n",
       "    .dataframe tbody tr th {\n",
       "        vertical-align: top;\n",
       "    }\n",
       "\n",
       "    .dataframe thead th {\n",
       "        text-align: right;\n",
       "    }\n",
       "</style>\n",
       "<table border=\"1\" class=\"dataframe\">\n",
       "  <thead>\n",
       "    <tr style=\"text-align: right;\">\n",
       "      <th></th>\n",
       "      <th>edit_count</th>\n",
       "      <th>pct_total</th>\n",
       "    </tr>\n",
       "    <tr>\n",
       "      <th>main_topic</th>\n",
       "      <th></th>\n",
       "      <th></th>\n",
       "    </tr>\n",
       "  </thead>\n",
       "  <tbody>\n",
       "    <tr>\n",
       "      <th>Geography</th>\n",
       "      <td>46665</td>\n",
       "      <td>0.499946</td>\n",
       "    </tr>\n",
       "    <tr>\n",
       "      <th>Culture</th>\n",
       "      <td>38074</td>\n",
       "      <td>0.407907</td>\n",
       "    </tr>\n",
       "    <tr>\n",
       "      <th>STEM</th>\n",
       "      <td>6027</td>\n",
       "      <td>0.064570</td>\n",
       "    </tr>\n",
       "    <tr>\n",
       "      <th>History_and_Society</th>\n",
       "      <td>2574</td>\n",
       "      <td>0.027577</td>\n",
       "    </tr>\n",
       "  </tbody>\n",
       "</table>\n",
       "</div>"
      ],
      "text/plain": [
       "                     edit_count  pct_total\n",
       "main_topic                                \n",
       "Geography                 46665   0.499946\n",
       "Culture                   38074   0.407907\n",
       "STEM                       6027   0.064570\n",
       "History_and_Society        2574   0.027577"
      ]
     },
     "execution_count": 32,
     "metadata": {},
     "output_type": "execute_result"
    }
   ],
   "source": [
    "edits_topic.groupby(['main_topic']).agg({'revision_id':'size'}).assign(pct_total=lambda x: x / x.sum()).rename(columns={'revision_id':'edit_count'}).sort_values(['edit_count'],ascending=False)"
   ]
  },
  {
   "cell_type": "code",
   "execution_count": 33,
   "id": "00db3c6f",
   "metadata": {},
   "outputs": [
    {
     "data": {
      "text/html": [
       "<div>\n",
       "<style scoped>\n",
       "    .dataframe tbody tr th:only-of-type {\n",
       "        vertical-align: middle;\n",
       "    }\n",
       "\n",
       "    .dataframe tbody tr th {\n",
       "        vertical-align: top;\n",
       "    }\n",
       "\n",
       "    .dataframe thead th {\n",
       "        text-align: right;\n",
       "    }\n",
       "</style>\n",
       "<table border=\"1\" class=\"dataframe\">\n",
       "  <thead>\n",
       "    <tr style=\"text-align: right;\">\n",
       "      <th></th>\n",
       "      <th>edit_count</th>\n",
       "      <th>pct_total</th>\n",
       "    </tr>\n",
       "    <tr>\n",
       "      <th>topic</th>\n",
       "      <th></th>\n",
       "      <th></th>\n",
       "    </tr>\n",
       "  </thead>\n",
       "  <tbody>\n",
       "    <tr>\n",
       "      <th>Culture.Biography.Biography*</th>\n",
       "      <td>20845</td>\n",
       "      <td>0.223323</td>\n",
       "    </tr>\n",
       "    <tr>\n",
       "      <th>Geography.Regions.Europe.Europe*</th>\n",
       "      <td>13446</td>\n",
       "      <td>0.144054</td>\n",
       "    </tr>\n",
       "    <tr>\n",
       "      <th>Geography.Regions.Asia.Asia*</th>\n",
       "      <td>5766</td>\n",
       "      <td>0.061774</td>\n",
       "    </tr>\n",
       "    <tr>\n",
       "      <th>Geography.Geographical</th>\n",
       "      <td>4894</td>\n",
       "      <td>0.052432</td>\n",
       "    </tr>\n",
       "    <tr>\n",
       "      <th>Geography.Regions.Europe.Western_Europe</th>\n",
       "      <td>4759</td>\n",
       "      <td>0.050986</td>\n",
       "    </tr>\n",
       "    <tr>\n",
       "      <th>Culture.Sports</th>\n",
       "      <td>4107</td>\n",
       "      <td>0.044000</td>\n",
       "    </tr>\n",
       "    <tr>\n",
       "      <th>Geography.Regions.Europe.Eastern_Europe</th>\n",
       "      <td>3442</td>\n",
       "      <td>0.036876</td>\n",
       "    </tr>\n",
       "    <tr>\n",
       "      <th>Geography.Regions.Asia.West_Asia</th>\n",
       "      <td>3351</td>\n",
       "      <td>0.035901</td>\n",
       "    </tr>\n",
       "    <tr>\n",
       "      <th>Culture.Visual_arts.Visual_arts*</th>\n",
       "      <td>3249</td>\n",
       "      <td>0.034808</td>\n",
       "    </tr>\n",
       "    <tr>\n",
       "      <th>STEM.STEM*</th>\n",
       "      <td>3092</td>\n",
       "      <td>0.033126</td>\n",
       "    </tr>\n",
       "  </tbody>\n",
       "</table>\n",
       "</div>"
      ],
      "text/plain": [
       "                                         edit_count  pct_total\n",
       "topic                                                         \n",
       "Culture.Biography.Biography*                  20845   0.223323\n",
       "Geography.Regions.Europe.Europe*              13446   0.144054\n",
       "Geography.Regions.Asia.Asia*                   5766   0.061774\n",
       "Geography.Geographical                         4894   0.052432\n",
       "Geography.Regions.Europe.Western_Europe        4759   0.050986\n",
       "Culture.Sports                                 4107   0.044000\n",
       "Geography.Regions.Europe.Eastern_Europe        3442   0.036876\n",
       "Geography.Regions.Asia.West_Asia               3351   0.035901\n",
       "Culture.Visual_arts.Visual_arts*               3249   0.034808\n",
       "STEM.STEM*                                     3092   0.033126"
      ]
     },
     "execution_count": 33,
     "metadata": {},
     "output_type": "execute_result"
    }
   ],
   "source": [
    "edits_topic.groupby(['topic']).agg({'revision_id':'size'}).assign(pct_total=lambda x: x / x.sum()).rename(columns={'revision_id':'edit_count'}).sort_values(['edit_count'],ascending=False).head(10)\n"
   ]
  },
  {
   "cell_type": "markdown",
   "id": "462587d3",
   "metadata": {},
   "source": [
    "The image edits by JarBot were made across all 64 topics (please refer to [the taxonomy](https://www.mediawiki.org/wiki/ORES/Articletopic) for a detailed list of article topics). The most edited main topic is Geography. "
   ]
  },
  {
   "cell_type": "code",
   "execution_count": 36,
   "id": "7755b4d9",
   "metadata": {},
   "outputs": [
    {
     "data": {
      "text/html": [
       "<div>\n",
       "<style scoped>\n",
       "    .dataframe tbody tr th:only-of-type {\n",
       "        vertical-align: middle;\n",
       "    }\n",
       "\n",
       "    .dataframe tbody tr th {\n",
       "        vertical-align: top;\n",
       "    }\n",
       "\n",
       "    .dataframe thead th {\n",
       "        text-align: right;\n",
       "    }\n",
       "</style>\n",
       "<table border=\"1\" class=\"dataframe\">\n",
       "  <thead>\n",
       "    <tr style=\"text-align: right;\">\n",
       "      <th></th>\n",
       "      <th>edit_count</th>\n",
       "      <th>was_reverted</th>\n",
       "      <th>revert_rate</th>\n",
       "    </tr>\n",
       "    <tr>\n",
       "      <th>main_topic</th>\n",
       "      <th></th>\n",
       "      <th></th>\n",
       "      <th></th>\n",
       "    </tr>\n",
       "  </thead>\n",
       "  <tbody>\n",
       "    <tr>\n",
       "      <th>Culture</th>\n",
       "      <td>38074</td>\n",
       "      <td>7</td>\n",
       "      <td>0.000184</td>\n",
       "    </tr>\n",
       "    <tr>\n",
       "      <th>Geography</th>\n",
       "      <td>46665</td>\n",
       "      <td>3</td>\n",
       "      <td>0.000064</td>\n",
       "    </tr>\n",
       "    <tr>\n",
       "      <th>History_and_Society</th>\n",
       "      <td>2574</td>\n",
       "      <td>0</td>\n",
       "      <td>0.000000</td>\n",
       "    </tr>\n",
       "    <tr>\n",
       "      <th>STEM</th>\n",
       "      <td>6027</td>\n",
       "      <td>0</td>\n",
       "      <td>0.000000</td>\n",
       "    </tr>\n",
       "  </tbody>\n",
       "</table>\n",
       "</div>"
      ],
      "text/plain": [
       "                     edit_count  was_reverted  revert_rate\n",
       "main_topic                                                \n",
       "Culture                   38074             7     0.000184\n",
       "Geography                 46665             3     0.000064\n",
       "History_and_Society        2574             0     0.000000\n",
       "STEM                       6027             0     0.000000"
      ]
     },
     "execution_count": 36,
     "metadata": {},
     "output_type": "execute_result"
    }
   ],
   "source": [
    "summary_m = edits_topic.groupby(['main_topic']).agg({'revision_id':'size','was_reverted':'sum'}).rename(columns={'revision_id':'edit_count'})\n",
    "summary_m[\"revert_rate\"] = summary_m['was_reverted']/summary_m['edit_count']\n",
    "summary_m.sort_values(['revert_rate'],ascending=False)"
   ]
  },
  {
   "cell_type": "markdown",
   "id": "b11497bf",
   "metadata": {},
   "source": [
    "The image edits by JarBot are more likely to be reverted in article with main topic Culture, followed by Geography topic."
   ]
  },
  {
   "cell_type": "code",
   "execution_count": 38,
   "id": "c330129e",
   "metadata": {},
   "outputs": [
    {
     "data": {
      "text/html": [
       "<div>\n",
       "<style scoped>\n",
       "    .dataframe tbody tr th:only-of-type {\n",
       "        vertical-align: middle;\n",
       "    }\n",
       "\n",
       "    .dataframe tbody tr th {\n",
       "        vertical-align: top;\n",
       "    }\n",
       "\n",
       "    .dataframe thead th {\n",
       "        text-align: right;\n",
       "    }\n",
       "</style>\n",
       "<table border=\"1\" class=\"dataframe\">\n",
       "  <thead>\n",
       "    <tr style=\"text-align: right;\">\n",
       "      <th></th>\n",
       "      <th>edit_count</th>\n",
       "      <th>was_reverted</th>\n",
       "      <th>revert_rate</th>\n",
       "    </tr>\n",
       "    <tr>\n",
       "      <th>topic</th>\n",
       "      <th></th>\n",
       "      <th></th>\n",
       "      <th></th>\n",
       "    </tr>\n",
       "  </thead>\n",
       "  <tbody>\n",
       "    <tr>\n",
       "      <th>Culture.Biography.Biography*</th>\n",
       "      <td>20845</td>\n",
       "      <td>3</td>\n",
       "      <td>0.000144</td>\n",
       "    </tr>\n",
       "    <tr>\n",
       "      <th>Culture.Philosophy_and_religion</th>\n",
       "      <td>1437</td>\n",
       "      <td>2</td>\n",
       "      <td>0.001392</td>\n",
       "    </tr>\n",
       "    <tr>\n",
       "      <th>Culture.Media.Films</th>\n",
       "      <td>811</td>\n",
       "      <td>1</td>\n",
       "      <td>0.001233</td>\n",
       "    </tr>\n",
       "    <tr>\n",
       "      <th>Geography.Regions.Europe.Western_Europe</th>\n",
       "      <td>4759</td>\n",
       "      <td>1</td>\n",
       "      <td>0.000210</td>\n",
       "    </tr>\n",
       "    <tr>\n",
       "      <th>Geography.Regions.Europe.Europe*</th>\n",
       "      <td>13446</td>\n",
       "      <td>1</td>\n",
       "      <td>0.000074</td>\n",
       "    </tr>\n",
       "    <tr>\n",
       "      <th>Culture.Media.Media*</th>\n",
       "      <td>2663</td>\n",
       "      <td>1</td>\n",
       "      <td>0.000376</td>\n",
       "    </tr>\n",
       "    <tr>\n",
       "      <th>Geography.Regions.Asia.Asia*</th>\n",
       "      <td>5766</td>\n",
       "      <td>1</td>\n",
       "      <td>0.000173</td>\n",
       "    </tr>\n",
       "    <tr>\n",
       "      <th>Culture.Media.Entertainment</th>\n",
       "      <td>129</td>\n",
       "      <td>0</td>\n",
       "      <td>0.000000</td>\n",
       "    </tr>\n",
       "    <tr>\n",
       "      <th>Culture.Media.Books</th>\n",
       "      <td>2</td>\n",
       "      <td>0</td>\n",
       "      <td>0.000000</td>\n",
       "    </tr>\n",
       "    <tr>\n",
       "      <th>Geography.Regions.Asia.West_Asia</th>\n",
       "      <td>3351</td>\n",
       "      <td>0</td>\n",
       "      <td>0.000000</td>\n",
       "    </tr>\n",
       "  </tbody>\n",
       "</table>\n",
       "</div>"
      ],
      "text/plain": [
       "                                         edit_count  was_reverted  revert_rate\n",
       "topic                                                                         \n",
       "Culture.Biography.Biography*                  20845             3     0.000144\n",
       "Culture.Philosophy_and_religion                1437             2     0.001392\n",
       "Culture.Media.Films                             811             1     0.001233\n",
       "Geography.Regions.Europe.Western_Europe        4759             1     0.000210\n",
       "Geography.Regions.Europe.Europe*              13446             1     0.000074\n",
       "Culture.Media.Media*                           2663             1     0.000376\n",
       "Geography.Regions.Asia.Asia*                   5766             1     0.000173\n",
       "Culture.Media.Entertainment                     129             0     0.000000\n",
       "Culture.Media.Books                               2             0     0.000000\n",
       "Geography.Regions.Asia.West_Asia               3351             0     0.000000"
      ]
     },
     "execution_count": 38,
     "metadata": {},
     "output_type": "execute_result"
    }
   ],
   "source": [
    "summary_t = edits_topic.groupby(['topic']).agg({'revision_id':'size','was_reverted':'sum'}).rename(columns={'revision_id':'edit_count'})\n",
    "summary_t[\"revert_rate\"] = summary_t['was_reverted']/summary_t['edit_count']\n",
    "summary_t.sort_values(['was_reverted'],ascending=False).head(10)"
   ]
  }
 ],
 "metadata": {
  "kernelspec": {
   "display_name": "Python 3 (ipykernel)",
   "language": "python",
   "name": "python3"
  },
  "language_info": {
   "codemirror_mode": {
    "name": "ipython",
    "version": 3
   },
   "file_extension": ".py",
   "mimetype": "text/x-python",
   "name": "python",
   "nbconvert_exporter": "python",
   "pygments_lexer": "ipython3",
   "version": "3.7.11"
  }
 },
 "nbformat": 4,
 "nbformat_minor": 5
}
