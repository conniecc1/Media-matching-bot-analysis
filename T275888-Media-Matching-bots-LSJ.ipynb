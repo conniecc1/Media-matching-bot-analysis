{
 "cells": [
  {
   "cell_type": "markdown",
   "id": "e480069f",
   "metadata": {},
   "source": [
    "# Measurement of Lsjbot"
   ]
  },
  {
   "cell_type": "markdown",
   "id": "31ff4e06",
   "metadata": {},
   "source": [
    "[T275888](https://phabricator.wikimedia.org/T275888)"
   ]
  },
  {
   "cell_type": "markdown",
   "id": "876333a5",
   "metadata": {},
   "source": [
    "## Purpose"
   ]
  },
  {
   "cell_type": "markdown",
   "id": "0319c088",
   "metadata": {},
   "source": [
    "Structured data team are working on an API that will allow bot writers to automatically add highly relevant images to specific articles.\n",
    "\n",
    "In order to undersrand how and whether to continue to move forward or if any major changes need to be made, we would like to collect metrics about the health of the project:\n",
    "\n",
    "- How many edits are made by bots to add images?\n",
    "- What proportion of those edits are reverted within 48 hours (aka “unconstructive edits”)? \n",
    "- How many images are added to an article in each edit? Does the number of images added per edit relate to revert rate?\n",
    "- Are there certain topic areas where images added by bots are more likely to be reverted"
   ]
  },
  {
   "cell_type": "code",
   "execution_count": 1,
   "id": "478ddb7a",
   "metadata": {},
   "outputs": [
    {
     "name": "stderr",
     "output_type": "stream",
     "text": [
      "You are using wmfdata v1.3.1, but v1.3.2 is available.\n",
      "\n",
      "To update, run `pip install --upgrade git+https://github.com/wikimedia/wmfdata-python.git@release --ignore-installed`.\n",
      "\n",
      "To see the changes, refer to https://github.com/wikimedia/wmfdata-python/blob/release/CHANGELOG.md\n"
     ]
    }
   ],
   "source": [
    "import datetime as dt\n",
    "import requests\n",
    "import mwapi\n",
    "import json\n",
    "import urllib.parse\n",
    "import re\n",
    "import wmfdata \n",
    "\n",
    "import pandas as pd\n",
    "import numpy as np\n",
    "\n",
    "from wmfdata import hive, spark, mariadb"
   ]
  },
  {
   "cell_type": "markdown",
   "id": "0f5d63b7",
   "metadata": {},
   "source": [
    "## Data"
   ]
  },
  {
   "cell_type": "markdown",
   "id": "9fdfc3aa",
   "metadata": {},
   "source": [
    "For this analysis, we are collecting metrics for Lsjbot running on Cebuano Wikipedia from Dec 2021 to Jan 2022. The image-adding edits can be found using [this query](https://quarry.wmcloud.org/query/61891)."
   ]
  },
  {
   "cell_type": "markdown",
   "id": "488d9e99",
   "metadata": {},
   "source": [
    "Find image edits in mariadb using the Quarry query we mentioned before\n"
   ]
  },
  {
   "cell_type": "code",
   "execution_count": 2,
   "id": "410f5afd",
   "metadata": {},
   "outputs": [],
   "source": [
    "image_edits_query = '''\n",
    "SELECT \n",
    "    rev_timestamp, \n",
    "    page_id, \n",
    "    rev_id\n",
    "FROM revision\n",
    "    INNER JOIN page ON rev_page = page_id\n",
    "    INNER JOIN revision_actor_temp ON rev_id = revactor_rev\n",
    "    INNER JOIN actor ON revactor_actor = actor.actor_id\n",
    "    INNER JOIN revision_comment_temp ON rev_id = revcomment_rev\n",
    "    INNER JOIN comment ON comment_id = revcomment_comment_id\n",
    "WHERE rev_timestamp between 20211201000000 and 20220201000000\n",
    "    AND page_namespace = 0\n",
    "    AND page.page_is_redirect = 0\n",
    "    AND actor_name = 'Lsjbot'\n",
    "    AND comment_text IN ('Images from API', 'Galeriya sa hulagway sa API');\n",
    "'''"
   ]
  },
  {
   "cell_type": "code",
   "execution_count": 3,
   "id": "4d3fe5fe",
   "metadata": {},
   "outputs": [],
   "source": [
    "image_edits = mariadb.run(image_edits_query, 'cebwiki')"
   ]
  },
  {
   "cell_type": "markdown",
   "id": "b48b626d",
   "metadata": {},
   "source": [
    "We create a temporary Spark dataframe to store our user data, then join that with MediaWiki history to aggregate edit data."
   ]
  },
  {
   "cell_type": "code",
   "execution_count": 4,
   "id": "044b336d",
   "metadata": {},
   "outputs": [
    {
     "data": {
      "text/html": [
       "<div>\n",
       "<style scoped>\n",
       "    .dataframe tbody tr th:only-of-type {\n",
       "        vertical-align: middle;\n",
       "    }\n",
       "\n",
       "    .dataframe tbody tr th {\n",
       "        vertical-align: top;\n",
       "    }\n",
       "\n",
       "    .dataframe thead th {\n",
       "        text-align: right;\n",
       "    }\n",
       "</style>\n",
       "<table border=\"1\" class=\"dataframe\">\n",
       "  <thead>\n",
       "    <tr style=\"text-align: right;\">\n",
       "      <th></th>\n",
       "      <th>rev_timestamp</th>\n",
       "      <th>page_id</th>\n",
       "      <th>rev_id</th>\n",
       "    </tr>\n",
       "  </thead>\n",
       "  <tbody>\n",
       "    <tr>\n",
       "      <th>49212</th>\n",
       "      <td>20211215022909</td>\n",
       "      <td>9820532</td>\n",
       "      <td>33581705</td>\n",
       "    </tr>\n",
       "    <tr>\n",
       "      <th>49213</th>\n",
       "      <td>20211218232452</td>\n",
       "      <td>1722030</td>\n",
       "      <td>33629897</td>\n",
       "    </tr>\n",
       "    <tr>\n",
       "      <th>49214</th>\n",
       "      <td>20211217030638</td>\n",
       "      <td>9820592</td>\n",
       "      <td>33608091</td>\n",
       "    </tr>\n",
       "    <tr>\n",
       "      <th>49215</th>\n",
       "      <td>20211218222630</td>\n",
       "      <td>9820594</td>\n",
       "      <td>33629473</td>\n",
       "    </tr>\n",
       "    <tr>\n",
       "      <th>49216</th>\n",
       "      <td>20211213212549</td>\n",
       "      <td>9820579</td>\n",
       "      <td>33571307</td>\n",
       "    </tr>\n",
       "  </tbody>\n",
       "</table>\n",
       "</div>"
      ],
      "text/plain": [
       "        rev_timestamp  page_id    rev_id\n",
       "49212  20211215022909  9820532  33581705\n",
       "49213  20211218232452  1722030  33629897\n",
       "49214  20211217030638  9820592  33608091\n",
       "49215  20211218222630  9820594  33629473\n",
       "49216  20211213212549  9820579  33571307"
      ]
     },
     "execution_count": 4,
     "metadata": {},
     "output_type": "execute_result"
    }
   ],
   "source": [
    "image_edits.tail()"
   ]
  },
  {
   "cell_type": "code",
   "execution_count": 5,
   "id": "0818030d",
   "metadata": {},
   "outputs": [
    {
     "name": "stderr",
     "output_type": "stream",
     "text": [
      "PySpark executors will use /usr/lib/anaconda-wmf/bin/python3.\n"
     ]
    }
   ],
   "source": [
    "spark_session = spark.get_session()\n",
    "image_edits_sdf = spark_session.createDataFrame(image_edits)\n",
    "image_edits_sdf.createGlobalTempView(\"image_edits_view\")"
   ]
  },
  {
   "cell_type": "markdown",
   "id": "2801a97a",
   "metadata": {},
   "source": [
    "## edits_count"
   ]
  },
  {
   "cell_type": "code",
   "execution_count": 6,
   "id": "d5cd820d",
   "metadata": {},
   "outputs": [],
   "source": [
    "edits_count_query = '''\n",
    "SELECT\n",
    "  FROM_UNIXTIME(UNIX_TIMESTAMP(SUBSTR(rev_timestamp,0,8), 'yyyyMMdd')) AS `date`,\n",
    "  COUNT(DISTINCT(rev_id)) AS rev\n",
    "FROM global_temp.image_edits_view\n",
    "GROUP BY SUBSTR(rev_timestamp,0,8)\n",
    "'''"
   ]
  },
  {
   "cell_type": "code",
   "execution_count": 7,
   "id": "0180f1c6",
   "metadata": {},
   "outputs": [
    {
     "name": "stderr",
     "output_type": "stream",
     "text": [
      "PySpark executors will use /usr/lib/anaconda-wmf/bin/python3.\n"
     ]
    }
   ],
   "source": [
    "edits_count = spark.run(edits_count_query)"
   ]
  },
  {
   "cell_type": "code",
   "execution_count": 8,
   "id": "4980ba37",
   "metadata": {},
   "outputs": [
    {
     "data": {
      "text/html": [
       "<div>\n",
       "<style scoped>\n",
       "    .dataframe tbody tr th:only-of-type {\n",
       "        vertical-align: middle;\n",
       "    }\n",
       "\n",
       "    .dataframe tbody tr th {\n",
       "        vertical-align: top;\n",
       "    }\n",
       "\n",
       "    .dataframe thead th {\n",
       "        text-align: right;\n",
       "    }\n",
       "</style>\n",
       "<table border=\"1\" class=\"dataframe\">\n",
       "  <thead>\n",
       "    <tr style=\"text-align: right;\">\n",
       "      <th></th>\n",
       "      <th>date</th>\n",
       "      <th>rev</th>\n",
       "    </tr>\n",
       "  </thead>\n",
       "  <tbody>\n",
       "    <tr>\n",
       "      <th>0</th>\n",
       "      <td>2021-12-17 00:00:00</td>\n",
       "      <td>6669</td>\n",
       "    </tr>\n",
       "    <tr>\n",
       "      <th>1</th>\n",
       "      <td>2021-12-16 00:00:00</td>\n",
       "      <td>4427</td>\n",
       "    </tr>\n",
       "    <tr>\n",
       "      <th>2</th>\n",
       "      <td>2021-12-13 00:00:00</td>\n",
       "      <td>3277</td>\n",
       "    </tr>\n",
       "    <tr>\n",
       "      <th>3</th>\n",
       "      <td>2021-12-31 00:00:00</td>\n",
       "      <td>842</td>\n",
       "    </tr>\n",
       "    <tr>\n",
       "      <th>4</th>\n",
       "      <td>2021-12-14 00:00:00</td>\n",
       "      <td>4146</td>\n",
       "    </tr>\n",
       "  </tbody>\n",
       "</table>\n",
       "</div>"
      ],
      "text/plain": [
       "                  date   rev\n",
       "0  2021-12-17 00:00:00  6669\n",
       "1  2021-12-16 00:00:00  4427\n",
       "2  2021-12-13 00:00:00  3277\n",
       "3  2021-12-31 00:00:00   842\n",
       "4  2021-12-14 00:00:00  4146"
      ]
     },
     "execution_count": 8,
     "metadata": {},
     "output_type": "execute_result"
    }
   ],
   "source": [
    "edits_count.head()"
   ]
  },
  {
   "cell_type": "code",
   "execution_count": 9,
   "id": "c6e6b8e9",
   "metadata": {},
   "outputs": [
    {
     "data": {
      "text/plain": [
       "49217"
      ]
     },
     "execution_count": 9,
     "metadata": {},
     "output_type": "execute_result"
    }
   ],
   "source": [
    "#total image edits count\n",
    "edits_count['rev'].sum()"
   ]
  },
  {
   "cell_type": "markdown",
   "id": "6141df68",
   "metadata": {},
   "source": [
    "## Reverted edits"
   ]
  },
  {
   "cell_type": "code",
   "execution_count": 10,
   "id": "e89f2f52",
   "metadata": {},
   "outputs": [],
   "source": [
    "reverted_query = '''\n",
    "SELECT \n",
    "  event_timestamp,\n",
    "  revision_id, \n",
    "  b.page_id, \n",
    "  CASE \n",
    "    WHEN event_entity = \"revision\" \n",
    "        AND revision_is_identity_reverted \n",
    "        AND revision_seconds_to_identity_revert <= 172800 THEN 1\n",
    "    ELSE 0 \n",
    "  END AS reverted\n",
    "FROM global_temp.image_edits_view b\n",
    "  INNER JOIN wmf.mediawiki_history w ON b.rev_id = w.revision_id\n",
    "WHERE snapshot = '2022-01'\n",
    "  AND wiki_db = 'cebwiki'\n",
    "  AND substr(event_timestamp,1,10) BETWEEN '2021-11-01' AND '2022-02-01'\n",
    "'''"
   ]
  },
  {
   "cell_type": "code",
   "execution_count": 11,
   "id": "9ffcbdc1",
   "metadata": {},
   "outputs": [
    {
     "name": "stderr",
     "output_type": "stream",
     "text": [
      "PySpark executors will use /usr/lib/anaconda-wmf/bin/python3.\n"
     ]
    }
   ],
   "source": [
    "edits_revert = spark.run(reverted_query)"
   ]
  },
  {
   "cell_type": "code",
   "execution_count": 12,
   "id": "b84e135e",
   "metadata": {},
   "outputs": [
    {
     "data": {
      "text/plain": [
       "8"
      ]
     },
     "execution_count": 12,
     "metadata": {},
     "output_type": "execute_result"
    }
   ],
   "source": [
    "#numnber of image edits reverted within 48 hours\n",
    "edits_revert['reverted'].sum()"
   ]
  },
  {
   "cell_type": "code",
   "execution_count": 13,
   "id": "26d724eb",
   "metadata": {},
   "outputs": [
    {
     "data": {
      "text/plain": [
       "0.00016254546193388464"
      ]
     },
     "execution_count": 13,
     "metadata": {},
     "output_type": "execute_result"
    }
   ],
   "source": [
    "#proportion\n",
    "edits_revert['reverted'].sum()/edits_revert['reverted'].count()"
   ]
  },
  {
   "cell_type": "markdown",
   "id": "2d1c23b1",
   "metadata": {},
   "source": [
    "The proportion of image edits are reverted within 48 hours is 0.016%. "
   ]
  },
  {
   "cell_type": "markdown",
   "id": "9ce52cec",
   "metadata": {},
   "source": [
    "## Number of  images per edit"
   ]
  },
  {
   "cell_type": "markdown",
   "id": "b97dbf27",
   "metadata": {},
   "source": [
    "Use [API with action=compare](https://www.mediawiki.org/w/api.php?action=help&modules=compare) to identify how many images were added per edit."
   ]
  },
  {
   "cell_type": "code",
   "execution_count": 81,
   "id": "4986ff2c",
   "metadata": {},
   "outputs": [],
   "source": [
    "image_added = []\n",
    "\n",
    "#file name to look up:\n",
    "file_str = ['.jpg', '.png', '.svg', '.gif', '.jpeg', '.tif', '.pdf', '.ogv', '.webm', '.mpg', '.mpeg',]\n",
    "\n",
    "\n",
    "for i in range(len(edits_revert)):\n",
    "    \n",
    "    image_count = 0\n",
    "\n",
    "   \n",
    "try:\n",
    "        end_point = 'https://ceb.wikipedia.org'\n",
    "        session = mwapi.Session(end_point, user_agent = \"image count <cchen@wikimedia.org>\")\n",
    "        api_result = session.get(action='compare', fromrev=edits_revert.iloc[i]['revision_id'], torelative = \"prev\")\n",
    "        diff_html = api_result['compare']['*']\n",
    "        \n",
    "\n",
    "        for n in range(len(file_str)):\n",
    "    \n",
    "            count = diff_html.lower().count(file_str[n])\n",
    "            image_count += count\n",
    "                \n",
    "    except Exception:\n",
    "        image_count = 0\n",
    "   \n",
    "    image_added.append(image_count)"
   ]
  },
  {
   "cell_type": "code",
   "execution_count": 82,
   "id": "c3583f30",
   "metadata": {},
   "outputs": [],
   "source": [
    "image_added = pd.DataFrame(image_added).rename(columns={0: \"image_count\"})"
   ]
  },
  {
   "cell_type": "code",
   "execution_count": 83,
   "id": "d1227b90",
   "metadata": {},
   "outputs": [],
   "source": [
    "edits_image = pd.concat([edits_revert, image_added],axis=1)"
   ]
  },
  {
   "cell_type": "code",
   "execution_count": 24,
   "id": "5273d70b",
   "metadata": {},
   "outputs": [
    {
     "data": {
      "text/plain": [
       "image_count    128294\n",
       "dtype: int64"
      ]
     },
     "execution_count": 24,
     "metadata": {},
     "output_type": "execute_result"
    }
   ],
   "source": [
    "edits_image.agg({'image_count':'sum'})"
   ]
  },
  {
   "cell_type": "code",
   "execution_count": 19,
   "id": "f6aaa7a5",
   "metadata": {},
   "outputs": [
    {
     "data": {
      "text/html": [
       "<div>\n",
       "<style scoped>\n",
       "    .dataframe tbody tr th:only-of-type {\n",
       "        vertical-align: middle;\n",
       "    }\n",
       "\n",
       "    .dataframe tbody tr th {\n",
       "        vertical-align: top;\n",
       "    }\n",
       "\n",
       "    .dataframe thead th {\n",
       "        text-align: right;\n",
       "    }\n",
       "</style>\n",
       "<table border=\"1\" class=\"dataframe\">\n",
       "  <thead>\n",
       "    <tr style=\"text-align: right;\">\n",
       "      <th></th>\n",
       "      <th>edit_count</th>\n",
       "      <th>pct_total</th>\n",
       "    </tr>\n",
       "    <tr>\n",
       "      <th>image_count</th>\n",
       "      <th></th>\n",
       "      <th></th>\n",
       "    </tr>\n",
       "  </thead>\n",
       "  <tbody>\n",
       "    <tr>\n",
       "      <th>1</th>\n",
       "      <td>24129</td>\n",
       "      <td>0.490158</td>\n",
       "    </tr>\n",
       "    <tr>\n",
       "      <th>2</th>\n",
       "      <td>10038</td>\n",
       "      <td>0.203912</td>\n",
       "    </tr>\n",
       "    <tr>\n",
       "      <th>3</th>\n",
       "      <td>4616</td>\n",
       "      <td>0.093770</td>\n",
       "    </tr>\n",
       "    <tr>\n",
       "      <th>4</th>\n",
       "      <td>1926</td>\n",
       "      <td>0.039125</td>\n",
       "    </tr>\n",
       "    <tr>\n",
       "      <th>5</th>\n",
       "      <td>1465</td>\n",
       "      <td>0.029760</td>\n",
       "    </tr>\n",
       "    <tr>\n",
       "      <th>6</th>\n",
       "      <td>1245</td>\n",
       "      <td>0.025291</td>\n",
       "    </tr>\n",
       "    <tr>\n",
       "      <th>7</th>\n",
       "      <td>1914</td>\n",
       "      <td>0.038881</td>\n",
       "    </tr>\n",
       "    <tr>\n",
       "      <th>8</th>\n",
       "      <td>1759</td>\n",
       "      <td>0.035732</td>\n",
       "    </tr>\n",
       "    <tr>\n",
       "      <th>9</th>\n",
       "      <td>1079</td>\n",
       "      <td>0.021919</td>\n",
       "    </tr>\n",
       "    <tr>\n",
       "      <th>10</th>\n",
       "      <td>1055</td>\n",
       "      <td>0.021431</td>\n",
       "    </tr>\n",
       "    <tr>\n",
       "      <th>11</th>\n",
       "      <td>1</td>\n",
       "      <td>0.000020</td>\n",
       "    </tr>\n",
       "  </tbody>\n",
       "</table>\n",
       "</div>"
      ],
      "text/plain": [
       "             edit_count  pct_total\n",
       "image_count                       \n",
       "1                 24129   0.490158\n",
       "2                 10038   0.203912\n",
       "3                  4616   0.093770\n",
       "4                  1926   0.039125\n",
       "5                  1465   0.029760\n",
       "6                  1245   0.025291\n",
       "7                  1914   0.038881\n",
       "8                  1759   0.035732\n",
       "9                  1079   0.021919\n",
       "10                 1055   0.021431\n",
       "11                    1   0.000020"
      ]
     },
     "execution_count": 19,
     "metadata": {},
     "output_type": "execute_result"
    }
   ],
   "source": [
    "edits_image.groupby(['image_count']).agg({'rev_id':'size'}).assign(pct_total=lambda x: x / x.sum()).rename(columns={'rev_id':'edit_count'})"
   ]
  },
  {
   "cell_type": "markdown",
   "id": "6875caaa",
   "metadata": {},
   "source": [
    "There are 128,294 images added by LsjBot through Nov 2021 - Jan 2021. \n",
    "49% of the image edits by LsjBot add 1 image to an article in each edits, and 20.4% add 2 images. "
   ]
  },
  {
   "cell_type": "code",
   "execution_count": 21,
   "id": "0be7f13a",
   "metadata": {},
   "outputs": [
    {
     "data": {
      "text/html": [
       "<div>\n",
       "<style scoped>\n",
       "    .dataframe tbody tr th:only-of-type {\n",
       "        vertical-align: middle;\n",
       "    }\n",
       "\n",
       "    .dataframe tbody tr th {\n",
       "        vertical-align: top;\n",
       "    }\n",
       "\n",
       "    .dataframe thead th {\n",
       "        text-align: right;\n",
       "    }\n",
       "</style>\n",
       "<table border=\"1\" class=\"dataframe\">\n",
       "  <thead>\n",
       "    <tr style=\"text-align: right;\">\n",
       "      <th></th>\n",
       "      <th>edit_count</th>\n",
       "      <th>reverted</th>\n",
       "      <th>revert_rate</th>\n",
       "    </tr>\n",
       "    <tr>\n",
       "      <th>image_count</th>\n",
       "      <th></th>\n",
       "      <th></th>\n",
       "      <th></th>\n",
       "    </tr>\n",
       "  </thead>\n",
       "  <tbody>\n",
       "    <tr>\n",
       "      <th>1</th>\n",
       "      <td>24129</td>\n",
       "      <td>2</td>\n",
       "      <td>0.000083</td>\n",
       "    </tr>\n",
       "    <tr>\n",
       "      <th>2</th>\n",
       "      <td>10038</td>\n",
       "      <td>3</td>\n",
       "      <td>0.000299</td>\n",
       "    </tr>\n",
       "    <tr>\n",
       "      <th>3</th>\n",
       "      <td>4616</td>\n",
       "      <td>0</td>\n",
       "      <td>0.000000</td>\n",
       "    </tr>\n",
       "    <tr>\n",
       "      <th>4</th>\n",
       "      <td>1926</td>\n",
       "      <td>0</td>\n",
       "      <td>0.000000</td>\n",
       "    </tr>\n",
       "    <tr>\n",
       "      <th>5</th>\n",
       "      <td>1465</td>\n",
       "      <td>1</td>\n",
       "      <td>0.000683</td>\n",
       "    </tr>\n",
       "    <tr>\n",
       "      <th>6</th>\n",
       "      <td>1245</td>\n",
       "      <td>0</td>\n",
       "      <td>0.000000</td>\n",
       "    </tr>\n",
       "    <tr>\n",
       "      <th>7</th>\n",
       "      <td>1914</td>\n",
       "      <td>0</td>\n",
       "      <td>0.000000</td>\n",
       "    </tr>\n",
       "    <tr>\n",
       "      <th>8</th>\n",
       "      <td>1759</td>\n",
       "      <td>0</td>\n",
       "      <td>0.000000</td>\n",
       "    </tr>\n",
       "    <tr>\n",
       "      <th>9</th>\n",
       "      <td>1079</td>\n",
       "      <td>1</td>\n",
       "      <td>0.000927</td>\n",
       "    </tr>\n",
       "    <tr>\n",
       "      <th>10</th>\n",
       "      <td>1055</td>\n",
       "      <td>1</td>\n",
       "      <td>0.000948</td>\n",
       "    </tr>\n",
       "    <tr>\n",
       "      <th>11</th>\n",
       "      <td>1</td>\n",
       "      <td>0</td>\n",
       "      <td>0.000000</td>\n",
       "    </tr>\n",
       "  </tbody>\n",
       "</table>\n",
       "</div>"
      ],
      "text/plain": [
       "             edit_count  reverted  revert_rate\n",
       "image_count                                   \n",
       "1                 24129         2     0.000083\n",
       "2                 10038         3     0.000299\n",
       "3                  4616         0     0.000000\n",
       "4                  1926         0     0.000000\n",
       "5                  1465         1     0.000683\n",
       "6                  1245         0     0.000000\n",
       "7                  1914         0     0.000000\n",
       "8                  1759         0     0.000000\n",
       "9                  1079         1     0.000927\n",
       "10                 1055         1     0.000948\n",
       "11                    1         0     0.000000"
      ]
     },
     "execution_count": 21,
     "metadata": {},
     "output_type": "execute_result"
    }
   ],
   "source": [
    "summary = edits_image.groupby(['image_count']).agg({'rev_id':'size','reverted':'sum'}).rename(columns={'rev_id':'edit_count'})\n",
    "summary[\"revert_rate\"] = summary['reverted']/summary['edit_count']\n",
    "summary"
   ]
  },
  {
   "cell_type": "markdown",
   "id": "038bd11b",
   "metadata": {},
   "source": [
    "Reverts happened in image edits with 1, 2, 5, 9 and 10 images. "
   ]
  },
  {
   "cell_type": "markdown",
   "id": "c2961f37",
   "metadata": {},
   "source": [
    "## Article topics and image edits"
   ]
  },
  {
   "cell_type": "markdown",
   "id": "c3417bc1",
   "metadata": {},
   "source": [
    "Note that one article may have multiple topics. We are counting edits and reverts per article topic. When topics are aggregated, this results in double counting of articles and makes the totals edits and reverts look much bigger than they are."
   ]
  },
  {
   "cell_type": "code",
   "execution_count": 25,
   "id": "1545e5ec",
   "metadata": {},
   "outputs": [],
   "source": [
    "topic_query = '''\n",
    "SELECT \n",
    "  event_timestamp,\n",
    "  revision_id, \n",
    "  b.page_id,\n",
    "  ato.topic,\n",
    "  tc.main_topic, \n",
    "  tc.sub_topic,\n",
    "  CASE \n",
    "    WHEN event_entity = \"revision\" \n",
    "        AND revision_is_identity_reverted \n",
    "        AND revision_seconds_to_identity_revert <= 172800 THEN 1\n",
    "    ELSE 0 \n",
    "  END AS reverted\n",
    "FROM global_temp.image_edits_view b\n",
    "  INNER JOIN wmf.mediawiki_history w ON (\n",
    "    b.rev_id = w.revision_id\n",
    "    AND w.wiki_db = 'cebwiki'\n",
    "  )\n",
    "  INNER JOIN isaacj.article_topics_outlinks_2021_11 ato ON (\n",
    "    ato.wiki_db =  'cebwiki'\n",
    "    AND b.page_id = ato.pageid\n",
    "    AND ato.score >= 0.5\n",
    "  )\n",
    "  LEFT JOIN cchen.topic_component tc ON ato.topic = tc.topic\n",
    "WHERE snapshot = '2022-01'\n",
    "  AND substr(event_timestamp,1,10) BETWEEN '2021-11-01' AND '2022-02-01'\n",
    "'''"
   ]
  },
  {
   "cell_type": "code",
   "execution_count": 26,
   "id": "478b0b07",
   "metadata": {},
   "outputs": [
    {
     "name": "stderr",
     "output_type": "stream",
     "text": [
      "PySpark executors will use /usr/lib/anaconda-wmf/bin/python3.\n"
     ]
    }
   ],
   "source": [
    "edits_topic = spark.run(topic_query)"
   ]
  },
  {
   "cell_type": "code",
   "execution_count": 27,
   "id": "d0305e93",
   "metadata": {},
   "outputs": [
    {
     "data": {
      "text/html": [
       "<div>\n",
       "<style scoped>\n",
       "    .dataframe tbody tr th:only-of-type {\n",
       "        vertical-align: middle;\n",
       "    }\n",
       "\n",
       "    .dataframe tbody tr th {\n",
       "        vertical-align: top;\n",
       "    }\n",
       "\n",
       "    .dataframe thead th {\n",
       "        text-align: right;\n",
       "    }\n",
       "</style>\n",
       "<table border=\"1\" class=\"dataframe\">\n",
       "  <thead>\n",
       "    <tr style=\"text-align: right;\">\n",
       "      <th></th>\n",
       "      <th>edit_count</th>\n",
       "      <th>pct_total</th>\n",
       "    </tr>\n",
       "    <tr>\n",
       "      <th>main_topic</th>\n",
       "      <th></th>\n",
       "      <th></th>\n",
       "    </tr>\n",
       "  </thead>\n",
       "  <tbody>\n",
       "    <tr>\n",
       "      <th>STEM</th>\n",
       "      <td>67357</td>\n",
       "      <td>0.646762</td>\n",
       "    </tr>\n",
       "    <tr>\n",
       "      <th>Geography</th>\n",
       "      <td>35148</td>\n",
       "      <td>0.337491</td>\n",
       "    </tr>\n",
       "    <tr>\n",
       "      <th>Culture</th>\n",
       "      <td>1431</td>\n",
       "      <td>0.013740</td>\n",
       "    </tr>\n",
       "    <tr>\n",
       "      <th>History_and_Society</th>\n",
       "      <td>209</td>\n",
       "      <td>0.002007</td>\n",
       "    </tr>\n",
       "  </tbody>\n",
       "</table>\n",
       "</div>"
      ],
      "text/plain": [
       "                     edit_count  pct_total\n",
       "main_topic                                \n",
       "STEM                      67357   0.646762\n",
       "Geography                 35148   0.337491\n",
       "Culture                    1431   0.013740\n",
       "History_and_Society         209   0.002007"
      ]
     },
     "execution_count": 27,
     "metadata": {},
     "output_type": "execute_result"
    }
   ],
   "source": [
    "edits_topic.groupby(['main_topic']).agg({'revision_id':'size'}).assign(pct_total=lambda x: x / x.sum()).rename(columns={'revision_id':'edit_count'}).sort_values(['edit_count'],ascending=False)"
   ]
  },
  {
   "cell_type": "code",
   "execution_count": 30,
   "id": "3ad9f74d",
   "metadata": {},
   "outputs": [
    {
     "data": {
      "text/html": [
       "<div>\n",
       "<style scoped>\n",
       "    .dataframe tbody tr th:only-of-type {\n",
       "        vertical-align: middle;\n",
       "    }\n",
       "\n",
       "    .dataframe tbody tr th {\n",
       "        vertical-align: top;\n",
       "    }\n",
       "\n",
       "    .dataframe thead th {\n",
       "        text-align: right;\n",
       "    }\n",
       "</style>\n",
       "<table border=\"1\" class=\"dataframe\">\n",
       "  <thead>\n",
       "    <tr style=\"text-align: right;\">\n",
       "      <th></th>\n",
       "      <th>edit_count</th>\n",
       "      <th>pct_total</th>\n",
       "    </tr>\n",
       "    <tr>\n",
       "      <th>topic</th>\n",
       "      <th></th>\n",
       "      <th></th>\n",
       "    </tr>\n",
       "  </thead>\n",
       "  <tbody>\n",
       "    <tr>\n",
       "      <th>STEM.STEM*</th>\n",
       "      <td>33651</td>\n",
       "      <td>0.323117</td>\n",
       "    </tr>\n",
       "    <tr>\n",
       "      <th>STEM.Biology</th>\n",
       "      <td>33520</td>\n",
       "      <td>0.321859</td>\n",
       "    </tr>\n",
       "    <tr>\n",
       "      <th>Geography.Regions.Europe.Europe*</th>\n",
       "      <td>13130</td>\n",
       "      <td>0.126074</td>\n",
       "    </tr>\n",
       "    <tr>\n",
       "      <th>Geography.Regions.Europe.Western_Europe</th>\n",
       "      <td>12863</td>\n",
       "      <td>0.123510</td>\n",
       "    </tr>\n",
       "    <tr>\n",
       "      <th>Geography.Regions.Oceania</th>\n",
       "      <td>2648</td>\n",
       "      <td>0.025426</td>\n",
       "    </tr>\n",
       "    <tr>\n",
       "      <th>Geography.Regions.Asia.Asia*</th>\n",
       "      <td>1472</td>\n",
       "      <td>0.014134</td>\n",
       "    </tr>\n",
       "    <tr>\n",
       "      <th>Geography.Regions.Africa.Africa*</th>\n",
       "      <td>733</td>\n",
       "      <td>0.007038</td>\n",
       "    </tr>\n",
       "    <tr>\n",
       "      <th>Geography.Regions.Americas.South_America</th>\n",
       "      <td>670</td>\n",
       "      <td>0.006433</td>\n",
       "    </tr>\n",
       "    <tr>\n",
       "      <th>Geography.Regions.Asia.Southeast_Asia</th>\n",
       "      <td>615</td>\n",
       "      <td>0.005905</td>\n",
       "    </tr>\n",
       "    <tr>\n",
       "      <th>Geography.Regions.Americas.North_America</th>\n",
       "      <td>538</td>\n",
       "      <td>0.005166</td>\n",
       "    </tr>\n",
       "  </tbody>\n",
       "</table>\n",
       "</div>"
      ],
      "text/plain": [
       "                                          edit_count  pct_total\n",
       "topic                                                          \n",
       "STEM.STEM*                                     33651   0.323117\n",
       "STEM.Biology                                   33520   0.321859\n",
       "Geography.Regions.Europe.Europe*               13130   0.126074\n",
       "Geography.Regions.Europe.Western_Europe        12863   0.123510\n",
       "Geography.Regions.Oceania                       2648   0.025426\n",
       "Geography.Regions.Asia.Asia*                    1472   0.014134\n",
       "Geography.Regions.Africa.Africa*                 733   0.007038\n",
       "Geography.Regions.Americas.South_America         670   0.006433\n",
       "Geography.Regions.Asia.Southeast_Asia            615   0.005905\n",
       "Geography.Regions.Americas.North_America         538   0.005166"
      ]
     },
     "execution_count": 30,
     "metadata": {},
     "output_type": "execute_result"
    }
   ],
   "source": [
    "edits_topic.groupby(['topic']).agg({'revision_id':'size'}).assign(pct_total=lambda x: x / x.sum()).rename(columns={'revision_id':'edit_count'}).sort_values(['edit_count'],ascending=False).head(10)\n"
   ]
  },
  {
   "cell_type": "markdown",
   "id": "ae7607b0",
   "metadata": {},
   "source": [
    "The image edits by Lsj were made across all 64 topics (please refer to [the taxonomy](https://www.mediawiki.org/wiki/ORES/Articletopic) for a detailed list of article topics). The most edited main topic is STEM (64.7% of total edits). "
   ]
  },
  {
   "cell_type": "code",
   "execution_count": 31,
   "id": "1e3d480b",
   "metadata": {},
   "outputs": [
    {
     "data": {
      "text/html": [
       "<div>\n",
       "<style scoped>\n",
       "    .dataframe tbody tr th:only-of-type {\n",
       "        vertical-align: middle;\n",
       "    }\n",
       "\n",
       "    .dataframe tbody tr th {\n",
       "        vertical-align: top;\n",
       "    }\n",
       "\n",
       "    .dataframe thead th {\n",
       "        text-align: right;\n",
       "    }\n",
       "</style>\n",
       "<table border=\"1\" class=\"dataframe\">\n",
       "  <thead>\n",
       "    <tr style=\"text-align: right;\">\n",
       "      <th></th>\n",
       "      <th>edit_count</th>\n",
       "      <th>reverted</th>\n",
       "      <th>revert_rate</th>\n",
       "    </tr>\n",
       "    <tr>\n",
       "      <th>main_topic</th>\n",
       "      <th></th>\n",
       "      <th></th>\n",
       "      <th></th>\n",
       "    </tr>\n",
       "  </thead>\n",
       "  <tbody>\n",
       "    <tr>\n",
       "      <th>STEM</th>\n",
       "      <td>67357</td>\n",
       "      <td>8</td>\n",
       "      <td>0.000119</td>\n",
       "    </tr>\n",
       "    <tr>\n",
       "      <th>Geography</th>\n",
       "      <td>35148</td>\n",
       "      <td>4</td>\n",
       "      <td>0.000114</td>\n",
       "    </tr>\n",
       "    <tr>\n",
       "      <th>Culture</th>\n",
       "      <td>1431</td>\n",
       "      <td>0</td>\n",
       "      <td>0.000000</td>\n",
       "    </tr>\n",
       "    <tr>\n",
       "      <th>History_and_Society</th>\n",
       "      <td>209</td>\n",
       "      <td>0</td>\n",
       "      <td>0.000000</td>\n",
       "    </tr>\n",
       "  </tbody>\n",
       "</table>\n",
       "</div>"
      ],
      "text/plain": [
       "                     edit_count  reverted  revert_rate\n",
       "main_topic                                            \n",
       "STEM                      67357         8     0.000119\n",
       "Geography                 35148         4     0.000114\n",
       "Culture                    1431         0     0.000000\n",
       "History_and_Society         209         0     0.000000"
      ]
     },
     "execution_count": 31,
     "metadata": {},
     "output_type": "execute_result"
    }
   ],
   "source": [
    "summary_m = edits_topic.groupby(['main_topic']).agg({'revision_id':'size','reverted':'sum'}).rename(columns={'revision_id':'edit_count'})\n",
    "summary_m[\"revert_rate\"] = summary_m['reverted']/summary_m['edit_count']\n",
    "summary_m.sort_values(['revert_rate'],ascending=False)"
   ]
  },
  {
   "cell_type": "code",
   "execution_count": 32,
   "id": "13cb792c",
   "metadata": {},
   "outputs": [
    {
     "data": {
      "text/html": [
       "<div>\n",
       "<style scoped>\n",
       "    .dataframe tbody tr th:only-of-type {\n",
       "        vertical-align: middle;\n",
       "    }\n",
       "\n",
       "    .dataframe tbody tr th {\n",
       "        vertical-align: top;\n",
       "    }\n",
       "\n",
       "    .dataframe thead th {\n",
       "        text-align: right;\n",
       "    }\n",
       "</style>\n",
       "<table border=\"1\" class=\"dataframe\">\n",
       "  <thead>\n",
       "    <tr style=\"text-align: right;\">\n",
       "      <th></th>\n",
       "      <th>edit_count</th>\n",
       "      <th>reverted</th>\n",
       "      <th>revert_rate</th>\n",
       "    </tr>\n",
       "    <tr>\n",
       "      <th>topic</th>\n",
       "      <th></th>\n",
       "      <th></th>\n",
       "      <th></th>\n",
       "    </tr>\n",
       "  </thead>\n",
       "  <tbody>\n",
       "    <tr>\n",
       "      <th>STEM.STEM*</th>\n",
       "      <td>33651</td>\n",
       "      <td>4</td>\n",
       "      <td>0.000119</td>\n",
       "    </tr>\n",
       "    <tr>\n",
       "      <th>STEM.Biology</th>\n",
       "      <td>33520</td>\n",
       "      <td>4</td>\n",
       "      <td>0.000119</td>\n",
       "    </tr>\n",
       "    <tr>\n",
       "      <th>Geography.Regions.Americas.North_America</th>\n",
       "      <td>538</td>\n",
       "      <td>2</td>\n",
       "      <td>0.003717</td>\n",
       "    </tr>\n",
       "    <tr>\n",
       "      <th>Geography.Regions.Africa.Africa*</th>\n",
       "      <td>733</td>\n",
       "      <td>1</td>\n",
       "      <td>0.001364</td>\n",
       "    </tr>\n",
       "    <tr>\n",
       "      <th>Geography.Regions.Africa.Eastern_Africa</th>\n",
       "      <td>199</td>\n",
       "      <td>1</td>\n",
       "      <td>0.005025</td>\n",
       "    </tr>\n",
       "    <tr>\n",
       "      <th>Culture.Biography.Biography*</th>\n",
       "      <td>164</td>\n",
       "      <td>0</td>\n",
       "      <td>0.000000</td>\n",
       "    </tr>\n",
       "    <tr>\n",
       "      <th>Geography.Regions.Europe.Northern_Europe</th>\n",
       "      <td>57</td>\n",
       "      <td>0</td>\n",
       "      <td>0.000000</td>\n",
       "    </tr>\n",
       "    <tr>\n",
       "      <th>Geography.Regions.Oceania</th>\n",
       "      <td>2648</td>\n",
       "      <td>0</td>\n",
       "      <td>0.000000</td>\n",
       "    </tr>\n",
       "    <tr>\n",
       "      <th>Geography.Regions.Europe.Western_Europe</th>\n",
       "      <td>12863</td>\n",
       "      <td>0</td>\n",
       "      <td>0.000000</td>\n",
       "    </tr>\n",
       "    <tr>\n",
       "      <th>Geography.Regions.Europe.Southern_Europe</th>\n",
       "      <td>108</td>\n",
       "      <td>0</td>\n",
       "      <td>0.000000</td>\n",
       "    </tr>\n",
       "  </tbody>\n",
       "</table>\n",
       "</div>"
      ],
      "text/plain": [
       "                                          edit_count  reverted  revert_rate\n",
       "topic                                                                      \n",
       "STEM.STEM*                                     33651         4     0.000119\n",
       "STEM.Biology                                   33520         4     0.000119\n",
       "Geography.Regions.Americas.North_America         538         2     0.003717\n",
       "Geography.Regions.Africa.Africa*                 733         1     0.001364\n",
       "Geography.Regions.Africa.Eastern_Africa          199         1     0.005025\n",
       "Culture.Biography.Biography*                     164         0     0.000000\n",
       "Geography.Regions.Europe.Northern_Europe          57         0     0.000000\n",
       "Geography.Regions.Oceania                       2648         0     0.000000\n",
       "Geography.Regions.Europe.Western_Europe        12863         0     0.000000\n",
       "Geography.Regions.Europe.Southern_Europe         108         0     0.000000"
      ]
     },
     "execution_count": 32,
     "metadata": {},
     "output_type": "execute_result"
    }
   ],
   "source": [
    "summary_t = edits_topic.groupby(['topic']).agg({'revision_id':'size','reverted':'sum'}).rename(columns={'revision_id':'edit_count'})\n",
    "summary_t[\"revert_rate\"] = summary_t['reverted']/summary_t['edit_count']\n",
    "summary_t.sort_values(['reverted'],ascending=False).head(10)"
   ]
  }
 ],
 "metadata": {
  "kernelspec": {
   "display_name": "Python 3",
   "language": "python",
   "name": "python3"
  },
  "language_info": {
   "codemirror_mode": {
    "name": "ipython",
    "version": 3
   },
   "file_extension": ".py",
   "mimetype": "text/x-python",
   "name": "python",
   "nbconvert_exporter": "python",
   "pygments_lexer": "ipython3",
   "version": "3.7.6"
  }
 },
 "nbformat": 4,
 "nbformat_minor": 5
}
